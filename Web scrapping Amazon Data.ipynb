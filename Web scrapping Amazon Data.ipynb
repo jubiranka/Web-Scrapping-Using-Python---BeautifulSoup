{
 "cells": [
  {
   "cell_type": "markdown",
   "id": "182cf968",
   "metadata": {},
   "source": [
    "# Scrapping Amazon Data for Sony Headphones"
   ]
  },
  {
   "cell_type": "markdown",
   "id": "08f60985",
   "metadata": {},
   "source": [
    "### Importing Libraries"
   ]
  },
  {
   "cell_type": "code",
   "execution_count": 65,
   "id": "fc05f378",
   "metadata": {},
   "outputs": [],
   "source": [
    "import pandas as pd\n",
    "from bs4 import BeautifulSoup\n",
    "import requests\n",
    "import time\n",
    "import datetime\n",
    "import numpy as np"
   ]
  },
  {
   "cell_type": "markdown",
   "id": "d921ecd7-5b83-4177-b238-a5eef0469873",
   "metadata": {},
   "source": [
    "### Connecting to website and pulling the data"
   ]
  },
  {
   "cell_type": "code",
   "execution_count": 66,
   "id": "91a5e286-906e-47c4-aa61-43751afd0bb3",
   "metadata": {},
   "outputs": [
    {
     "data": {
      "text/plain": [
       "<Response [200]>"
      ]
     },
     "execution_count": 66,
     "metadata": {},
     "output_type": "execute_result"
    }
   ],
   "source": [
    "URL = \"https://www.amazon.in/s?k=headphones&rh=n%3A976419031%2Cp_123%3A237204&dc&ds=v1%3ASvjauA1e6BezhxEzPlsjSqYx6fpv9Sa5vXUUbzRh3JE&crid=2LITCFDFEKL0P&qid=1733751999&rnid=91049095031&sprefix=headphone%2Caps%2C193&ref=sr_nr_p_123_4\"\n",
    "Header = {\"User-Agent\":\"Mozilla/5.0 (Windows NT 10.0; Win64; x64) AppleWebKit/537.36 (KHTML, like Gecko) Chrome/131.0.0.0 Safari/537.36\"}\n",
    "page = requests.get(URL, headers=Header)\n",
    "page\n"
   ]
  },
  {
   "cell_type": "code",
   "execution_count": 67,
   "id": "c0b33f92-c11b-4c41-a4c6-7b7e91a189f1",
   "metadata": {},
   "outputs": [],
   "source": [
    "soup1 = BeautifulSoup(page.content, \"html.parser\")\n",
    "soup = BeautifulSoup(soup1.prettify(), \"html.parser\")"
   ]
  },
  {
   "cell_type": "markdown",
   "id": "c7851aec-c6cb-4c7a-a89b-93bd866acb98",
   "metadata": {},
   "source": [
    "## Now let's make functions to make our work efficient and less redundant"
   ]
  },
  {
   "cell_type": "markdown",
   "id": "6595cdec-54a1-45df-b415-2422a680ef25",
   "metadata": {},
   "source": [
    "#### Function to fetch HTML content and return beautifulSoup object"
   ]
  },
  {
   "cell_type": "code",
   "execution_count": 68,
   "id": "d4c8e824-7ebb-4db9-9b03-c023e287a7fd",
   "metadata": {},
   "outputs": [],
   "source": [
    "def get_soup(url):\n",
    "    response = requests.get(url, headers=Header)\n",
    "    return BeautifulSoup(response.content, \"html.parser\")"
   ]
  },
  {
   "cell_type": "markdown",
   "id": "c7484acf-e6ad-4a5a-9987-bbc2f0c11695",
   "metadata": {},
   "source": [
    "#### Function to fetch links of the products from one page"
   ]
  },
  {
   "cell_type": "code",
   "execution_count": 69,
   "id": "bfc7d92e-9dd3-4a83-a83a-6af054422c5f",
   "metadata": {},
   "outputs": [],
   "source": [
    "BASE_URL = \"https://www.amazon.in/\"\n",
    "\n",
    "# To store all product links\n",
    "all_product_links = []"
   ]
  },
  {
   "cell_type": "code",
   "execution_count": 70,
   "id": "7ee09f5a-eb53-4937-b6da-0746695b7db8",
   "metadata": {},
   "outputs": [],
   "source": [
    "def extract_product_links(soup):\n",
    "    product_links = []\n",
    "    product_tags = soup.find_all(\"a\", class_=\"a-link-normal s-no-outline\")\n",
    "    \n",
    "    for tag in product_tags:\n",
    "        href = tag.get(\"href\")\n",
    "        if href:\n",
    "            # Append the base URL to create a full link\n",
    "            product_links.append(BASE_URL + href)\n",
    "    \n",
    "    return product_links"
   ]
  },
  {
   "cell_type": "markdown",
   "id": "29671ff9-b75a-4ac0-aac0-df6576e49347",
   "metadata": {},
   "source": [
    "#### Function to fetch the links of next page, if available"
   ]
  },
  {
   "cell_type": "code",
   "execution_count": 71,
   "id": "54a9f2c4-1280-43b6-8ce5-e58372efe445",
   "metadata": {},
   "outputs": [],
   "source": [
    "def get_next_page_url(soup):\n",
    "    next_button = soup.find(\"a\", class_=\"s-pagination-next\")\n",
    "    if next_button and \"href\" in next_button.attrs:\n",
    "        # Return the full URL for the next page\n",
    "        return BASE_URL + next_button[\"href\"]\n",
    "    return None"
   ]
  },
  {
   "cell_type": "markdown",
   "id": "9d526e8e-6a27-4bb5-a6ed-6dc6023fa3a0",
   "metadata": {},
   "source": [
    "#### Function to scrape links from each page, one by one and adding it to one common list so that we can fetch data from each product by looping through that variable"
   ]
  },
  {
   "cell_type": "code",
   "execution_count": 72,
   "id": "eaa3b75c-8ff1-41c0-90fe-340427a1c2b5",
   "metadata": {},
   "outputs": [],
   "source": [
    "def scrape_all_pages(start_url):\n",
    "    current_url = start_url\n",
    "    while current_url:\n",
    "        print(f\"Scraping: {current_url}\")\n",
    "        \n",
    "        # Get the soup object for the current page\n",
    "        soup = get_soup(current_url)\n",
    "        \n",
    "        # Extract product links and add them to the master list\n",
    "        all_product_links.extend(extract_product_links(soup))\n",
    "        \n",
    "        # Find the next page URL, if available\n",
    "        current_url = get_next_page_url(soup)\n",
    "        \n",
    "        # Wait to avoid overloading the server\n",
    "        time.sleep(2)\n"
   ]
  },
  {
   "cell_type": "markdown",
   "id": "12fde8cd-b9ea-4ebf-a11b-8d4fc58fa070",
   "metadata": {},
   "source": [
    "### Running the scrape_all_pages(URL) function to get the links of all the products"
   ]
  },
  {
   "cell_type": "code",
   "execution_count": 73,
   "id": "e4556411-9023-4687-b54d-6376a7497910",
   "metadata": {},
   "outputs": [
    {
     "name": "stdout",
     "output_type": "stream",
     "text": [
      "Scraping: https://www.amazon.in/s?k=headphones&rh=n%3A976419031%2Cp_123%3A237204&dc&ds=v1%3ASvjauA1e6BezhxEzPlsjSqYx6fpv9Sa5vXUUbzRh3JE&crid=2LITCFDFEKL0P&qid=1733751999&rnid=91049095031&sprefix=headphone%2Caps%2C193&ref=sr_nr_p_123_4\n",
      "Scraping: https://www.amazon.in//s?k=headphones&i=electronics&rh=n%3A976419031%2Cp_123%3A237204&dc&page=2&crid=2LITCFDFEKL0P&qid=1733765301&rnid=91049095031&sprefix=headphone%2Caps%2C193&ref=sr_pg_1\n",
      "Scraping: https://www.amazon.in//s?k=headphones&i=electronics&rh=n%3A976419031%2Cp_123%3A237204&dc&page=3&crid=2LITCFDFEKL0P&qid=1733765305&rnid=91049095031&sprefix=headphone%2Caps%2C193&ref=sr_pg_2\n",
      "Scraping: https://www.amazon.in//s?k=headphones&i=electronics&rh=n%3A976419031%2Cp_123%3A237204&dc&page=4&crid=2LITCFDFEKL0P&qid=1733765309&rnid=91049095031&sprefix=headphone%2Caps%2C193&ref=sr_pg_3\n",
      "Scraping: https://www.amazon.in//s?k=headphones&i=electronics&rh=n%3A976419031%2Cp_123%3A237204&dc&page=5&crid=2LITCFDFEKL0P&qid=1733765312&rnid=91049095031&sprefix=headphone%2Caps%2C193&ref=sr_pg_4\n"
     ]
    }
   ],
   "source": [
    "scrape_all_pages(URL)"
   ]
  },
  {
   "cell_type": "code",
   "execution_count": 74,
   "id": "6b504cad-70e1-4472-9705-4caca05dd478",
   "metadata": {},
   "outputs": [],
   "source": [
    "# all_product_links"
   ]
  },
  {
   "cell_type": "markdown",
   "id": "0a0fe980-f6d0-4a67-a50d-a9ebf985680c",
   "metadata": {},
   "source": [
    "#### Now, we have links to all the product in the headphoen category for Sony Brand in India. Using this list, let's get the details of each product like - Name, Original MRP, MRP after Discount, Ratings, No of People who rated, sold by"
   ]
  },
  {
   "cell_type": "markdown",
   "id": "8fc98a89-7117-4b69-b349-097e440d3c80",
   "metadata": {},
   "source": [
    "#### Function to fetch details about each product based on the links stored together "
   ]
  },
  {
   "cell_type": "markdown",
   "id": "bb74881d-8c6d-4c8f-b708-48078077eb37",
   "metadata": {},
   "source": [
    "#### To handle NoneObject type error we added the try and except to the function"
   ]
  },
  {
   "cell_type": "code",
   "execution_count": 82,
   "id": "916cd81c-e079-46c9-8eeb-64488ddcadf3",
   "metadata": {},
   "outputs": [],
   "source": [
    "def fetch_product_details(product_url):\n",
    "    try:\n",
    "        # Fetch the page content\n",
    "        soup = get_soup(product_url)\n",
    "        \n",
    "        # Extract required details using CSS selectors\n",
    "        product_details = {}\n",
    "\n",
    "        # Link of the Product\n",
    "        product_details[\"Product Link\"] = product_url\n",
    "        \n",
    "        # Name of the product\n",
    "        product_name = soup.find(\"span\", {\"id\": \"productTitle\"})\n",
    "        product_details[\"Name\"] = product_name.get_text(strip=True) if product_name else np.nan\n",
    "\n",
    "        # Original MRP (if available)\n",
    "        original_mrp = soup.find(\"span\", class_=\"a-price a-text-price\")\n",
    "        product_details[\"Original MRP\"] = (\n",
    "            original_mrp.find(\"span\", class_=\"a-offscreen\").get_text(strip=True)\n",
    "            if original_mrp and original_mrp.find(\"span\", class_=\"a-offscreen\")\n",
    "            else np.nan\n",
    "        )\n",
    "\n",
    "        # MRP after discount\n",
    "        discounted_mrp = soup.find(\"span\", class_=\"a-price-whole\")\n",
    "        product_details[\"MRP After Discount\"] = (\n",
    "            discounted_mrp.get_text(strip=True) if discounted_mrp else np.nan\n",
    "        )\n",
    "\n",
    "        # Ratings\n",
    "        rating_tag = soup.find(\"a\", class_=\"a-popover-trigger a-declarative\")\n",
    "        product_details[\"Ratings\"] = (\n",
    "            rating_tag.find(\"span\", class_=\"a-size-base a-color-base\").get_text(strip=True)\n",
    "            if rating_tag and rating_tag.find(\"span\", class_=\"a-size-base a-color-base\")\n",
    "            else np.nan\n",
    "        )\n",
    "\n",
    "        # Number of people who rated\n",
    "        num_ratings = soup.find(\"span\", {\"id\": \"acrCustomerReviewText\"})\n",
    "        product_details[\"Number of Ratings\"] = (\n",
    "            num_ratings.get_text(strip=True) if num_ratings else np.nan\n",
    "        )\n",
    "\n",
    "        # Ratings link\n",
    "        rating_link = soup.find(\"a\", {\"id\": \"acrCustomerReviewLink\"})\n",
    "        product_details[\"Ratings Link\"] = (\n",
    "            product_url.split('?')[0] + rating_link[\"href\"] if rating_link else np.nan\n",
    "        )\n",
    "\n",
    "        # Sold by\n",
    "        sold_by_tag = soup.find(\"a\", {\"id\": \"sellerProfileTriggerId\"})\n",
    "        product_details[\"Sold By\"] = (\n",
    "            sold_by_tag.get_text(strip=True) if sold_by_tag else np.nan\n",
    "        )\n",
    "\n",
    "        return product_details\n",
    "\n",
    "    except Exception as e:\n",
    "        # Handle exceptions and return error message for the product\n",
    "        return {\"Error\": f\"Failed to fetch product details: {str(e)}\"}\n"
   ]
  },
  {
   "cell_type": "markdown",
   "id": "4c1cbef7-00df-4e4c-9fb1-cd2cf98c9dac",
   "metadata": {},
   "source": [
    "#### Function to fetch all the data from the links, this function will call the fetch_product_details() function to get all the product data"
   ]
  },
  {
   "cell_type": "code",
   "execution_count": 77,
   "id": "fe423e2c-40ef-451f-b3ca-2ca4ba54a1ab",
   "metadata": {},
   "outputs": [],
   "source": [
    "def fetch_all_products_details(all_product_links):\n",
    "    all_products_data = []\n",
    "    \n",
    "    for index, product_url in enumerate(all_product_links):\n",
    "        print(f\"Fetching product {index + 1} of {len(all_product_links)}: {product_url}\")\n",
    "        product_data = fetch_product_details(product_url)\n",
    "        all_products_data.append(product_data)\n",
    "        \n",
    "        # Add a polite delay between requests\n",
    "        time.sleep(2)\n",
    "    \n",
    "    return all_products_data"
   ]
  },
  {
   "cell_type": "markdown",
   "id": "e5a42599-d8a8-4bc8-b684-38802c82c8d1",
   "metadata": {},
   "source": [
    "##### The above function is responsible for iterating through a list of product URLs "
   ]
  },
  {
   "cell_type": "markdown",
   "id": "85a34685-8b0d-4bdf-8203-2144180f2a99",
   "metadata": {},
   "source": [
    "calling fetch_all_product_details() functiona nd passing the list of links of products to fetch the information"
   ]
  },
  {
   "cell_type": "code",
   "execution_count": 78,
   "id": "a82b08d0-2782-4950-923b-ac29520a469e",
   "metadata": {},
   "outputs": [
    {
     "name": "stdout",
     "output_type": "stream",
     "text": [
      "Fetching product 1 of 97: https://www.amazon.in//b?node=20930687031&pd_rd_w=6xUH4&content-id=amzn1.sym.05f2af66-0e0d-4841-9496-1d7a185265a8:amzn1.sym.05f2af66-0e0d-4841-9496-1d7a185265a8&pf_rd_p=05f2af66-0e0d-4841-9496-1d7a185265a8&pf_rd_r=60YQ1QXDEHVJ7QJ35HDX&pd_rd_wg=AmyKM&pd_rd_r=e29c3f68-963f-4c7e-afaa-07270655ab0d&qid=1733765301&ref_=sxts_spks_0_0_05f2af66-0e0d-4841-9496-1d7a185265a8\n",
      "Fetching product 2 of 97: https://www.amazon.in//Sony-MDR-ZX110A-Stereo-Headphones-without/dp/B00KGZZ824/ref=sr_1_1?crid=2LITCFDFEKL0P&dib=eyJ2IjoiMSJ9.znjszWxIDYu_N_NGL7gzq-AWX8iQ9EabBuFHNI-PbwqN4u2NSc1E1-nUeDdfrH2uOnSZf3LNYJk1_ph29ZSW2awotDyYwEMggeeYKcQG3b3sjwIBN1q0bQWj_g5LloFRYY0LL5caMLgh8i7KnKi9DvBqw2yF28Lv4A6hBcqWtYRfw1Yt5Rvete0V704aU1whrzolN51P182MaLrXOxd4m8vABb1Q8QYPxvmY5UuyCqVh717X5kgRq4b6YJZB2EtyQmCh0duYOY5l5Epqs2ZJ9A12zP0K8b4sbEo8YClrdGE.Xu6qrmbIgaHZCwfPBkHDK5bO5dUWC_7BX1mj7DWZabI&dib_tag=se&keywords=headphones&qid=1733765301&refinements=p_123%3A237204&rnid=91049095031&s=electronics&sprefix=headphone%2Caps%2C193&sr=1-1\n",
      "Fetching product 3 of 97: https://www.amazon.in//Sony-Bluetooth-Headphones-Multipoint-Connectivity/dp/B0BS1RT9S2/ref=sr_1_2?crid=2LITCFDFEKL0P&dib=eyJ2IjoiMSJ9.znjszWxIDYu_N_NGL7gzq-AWX8iQ9EabBuFHNI-PbwqN4u2NSc1E1-nUeDdfrH2uOnSZf3LNYJk1_ph29ZSW2awotDyYwEMggeeYKcQG3b3sjwIBN1q0bQWj_g5LloFRYY0LL5caMLgh8i7KnKi9DvBqw2yF28Lv4A6hBcqWtYRfw1Yt5Rvete0V704aU1whrzolN51P182MaLrXOxd4m8vABb1Q8QYPxvmY5UuyCqVh717X5kgRq4b6YJZB2EtyQmCh0duYOY5l5Epqs2ZJ9A12zP0K8b4sbEo8YClrdGE.Xu6qrmbIgaHZCwfPBkHDK5bO5dUWC_7BX1mj7DWZabI&dib_tag=se&keywords=headphones&qid=1733765301&refinements=p_123%3A237204&rnid=91049095031&s=electronics&sprefix=headphone%2Caps%2C193&sr=1-2\n",
      "Fetching product 4 of 97: https://www.amazon.in//Sony-Mdr-Zx310Ap-Wired-Headphones-Blue/dp/B00K0AMYFO/ref=sr_1_3?crid=2LITCFDFEKL0P&dib=eyJ2IjoiMSJ9.znjszWxIDYu_N_NGL7gzq-AWX8iQ9EabBuFHNI-PbwqN4u2NSc1E1-nUeDdfrH2uOnSZf3LNYJk1_ph29ZSW2awotDyYwEMggeeYKcQG3b3sjwIBN1q0bQWj_g5LloFRYY0LL5caMLgh8i7KnKi9DvBqw2yF28Lv4A6hBcqWtYRfw1Yt5Rvete0V704aU1whrzolN51P182MaLrXOxd4m8vABb1Q8QYPxvmY5UuyCqVh717X5kgRq4b6YJZB2EtyQmCh0duYOY5l5Epqs2ZJ9A12zP0K8b4sbEo8YClrdGE.Xu6qrmbIgaHZCwfPBkHDK5bO5dUWC_7BX1mj7DWZabI&dib_tag=se&keywords=headphones&qid=1733765301&refinements=p_123%3A237204&rnid=91049095031&s=electronics&sprefix=headphone%2Caps%2C193&sr=1-3\n",
      "Fetching product 5 of 97: https://www.amazon.in//Sony-Bluetooth-Headphones-Multipoint-Connectivity/dp/B0BS1PRC4L/ref=sr_1_4?crid=2LITCFDFEKL0P&dib=eyJ2IjoiMSJ9.znjszWxIDYu_N_NGL7gzq-AWX8iQ9EabBuFHNI-PbwqN4u2NSc1E1-nUeDdfrH2uOnSZf3LNYJk1_ph29ZSW2awotDyYwEMggeeYKcQG3b3sjwIBN1q0bQWj_g5LloFRYY0LL5caMLgh8i7KnKi9DvBqw2yF28Lv4A6hBcqWtYRfw1Yt5Rvete0V704aU1whrzolN51P182MaLrXOxd4m8vABb1Q8QYPxvmY5UuyCqVh717X5kgRq4b6YJZB2EtyQmCh0duYOY5l5Epqs2ZJ9A12zP0K8b4sbEo8YClrdGE.Xu6qrmbIgaHZCwfPBkHDK5bO5dUWC_7BX1mj7DWZabI&dib_tag=se&keywords=headphones&qid=1733765301&refinements=p_123%3A237204&rnid=91049095031&s=electronics&sprefix=headphone%2Caps%2C193&sr=1-4\n",
      "Fetching product 6 of 97: https://www.amazon.in//Sony-Cancellation-Headphones-Multi-Point-Connection/dp/B0BS1QCFHX/ref=sr_1_5?crid=2LITCFDFEKL0P&dib=eyJ2IjoiMSJ9.znjszWxIDYu_N_NGL7gzq-AWX8iQ9EabBuFHNI-PbwqN4u2NSc1E1-nUeDdfrH2uOnSZf3LNYJk1_ph29ZSW2awotDyYwEMggeeYKcQG3b3sjwIBN1q0bQWj_g5LloFRYY0LL5caMLgh8i7KnKi9DvBqw2yF28Lv4A6hBcqWtYRfw1Yt5Rvete0V704aU1whrzolN51P182MaLrXOxd4m8vABb1Q8QYPxvmY5UuyCqVh717X5kgRq4b6YJZB2EtyQmCh0duYOY5l5Epqs2ZJ9A12zP0K8b4sbEo8YClrdGE.Xu6qrmbIgaHZCwfPBkHDK5bO5dUWC_7BX1mj7DWZabI&dib_tag=se&keywords=headphones&qid=1733765301&refinements=p_123%3A237204&rnid=91049095031&s=electronics&sprefix=headphone%2Caps%2C193&sr=1-5\n",
      "Fetching product 7 of 97: https://www.amazon.in//Sony-WH-CH520-Headphones-Multipoint-Connectivity/dp/B0BZPK3XFQ/ref=sr_1_6?crid=2LITCFDFEKL0P&dib=eyJ2IjoiMSJ9.znjszWxIDYu_N_NGL7gzq-AWX8iQ9EabBuFHNI-PbwqN4u2NSc1E1-nUeDdfrH2uOnSZf3LNYJk1_ph29ZSW2awotDyYwEMggeeYKcQG3b3sjwIBN1q0bQWj_g5LloFRYY0LL5caMLgh8i7KnKi9DvBqw2yF28Lv4A6hBcqWtYRfw1Yt5Rvete0V704aU1whrzolN51P182MaLrXOxd4m8vABb1Q8QYPxvmY5UuyCqVh717X5kgRq4b6YJZB2EtyQmCh0duYOY5l5Epqs2ZJ9A12zP0K8b4sbEo8YClrdGE.Xu6qrmbIgaHZCwfPBkHDK5bO5dUWC_7BX1mj7DWZabI&dib_tag=se&keywords=headphones&qid=1733765301&refinements=p_123%3A237204&rnid=91049095031&s=electronics&sprefix=headphone%2Caps%2C193&sr=1-6\n",
      "Fetching product 8 of 97: https://www.amazon.in//Sony-WH-CH720N-Cancellation-Headphones-Multi-Point/dp/B0BXXPG6FP/ref=sr_1_7?crid=2LITCFDFEKL0P&dib=eyJ2IjoiMSJ9.znjszWxIDYu_N_NGL7gzq-AWX8iQ9EabBuFHNI-PbwqN4u2NSc1E1-nUeDdfrH2uOnSZf3LNYJk1_ph29ZSW2awotDyYwEMggeeYKcQG3b3sjwIBN1q0bQWj_g5LloFRYY0LL5caMLgh8i7KnKi9DvBqw2yF28Lv4A6hBcqWtYRfw1Yt5Rvete0V704aU1whrzolN51P182MaLrXOxd4m8vABb1Q8QYPxvmY5UuyCqVh717X5kgRq4b6YJZB2EtyQmCh0duYOY5l5Epqs2ZJ9A12zP0K8b4sbEo8YClrdGE.Xu6qrmbIgaHZCwfPBkHDK5bO5dUWC_7BX1mj7DWZabI&dib_tag=se&keywords=headphones&qid=1733765301&refinements=p_123%3A237204&rnid=91049095031&s=electronics&sprefix=headphone%2Caps%2C193&sr=1-7\n",
      "Fetching product 9 of 97: https://www.amazon.in//Sony-MDR-ZX310AP-Headband-Stereo-Headset/dp/B0784BMDRW/ref=sr_1_8?crid=2LITCFDFEKL0P&dib=eyJ2IjoiMSJ9.znjszWxIDYu_N_NGL7gzq-AWX8iQ9EabBuFHNI-PbwqN4u2NSc1E1-nUeDdfrH2uOnSZf3LNYJk1_ph29ZSW2awotDyYwEMggeeYKcQG3b3sjwIBN1q0bQWj_g5LloFRYY0LL5caMLgh8i7KnKi9DvBqw2yF28Lv4A6hBcqWtYRfw1Yt5Rvete0V704aU1whrzolN51P182MaLrXOxd4m8vABb1Q8QYPxvmY5UuyCqVh717X5kgRq4b6YJZB2EtyQmCh0duYOY5l5Epqs2ZJ9A12zP0K8b4sbEo8YClrdGE.Xu6qrmbIgaHZCwfPBkHDK5bO5dUWC_7BX1mj7DWZabI&dib_tag=se&keywords=headphones&qid=1733765301&refinements=p_123%3A237204&rnid=91049095031&s=electronics&sprefix=headphone%2Caps%2C193&sr=1-8\n",
      "Fetching product 10 of 97: https://www.amazon.in//Sony-WH-1000XM4-Cancelling-Headphones-Bluetooth/dp/B0863TXGM3/ref=sr_1_9?crid=2LITCFDFEKL0P&dib=eyJ2IjoiMSJ9.znjszWxIDYu_N_NGL7gzq-AWX8iQ9EabBuFHNI-PbwqN4u2NSc1E1-nUeDdfrH2uOnSZf3LNYJk1_ph29ZSW2awotDyYwEMggeeYKcQG3b3sjwIBN1q0bQWj_g5LloFRYY0LL5caMLgh8i7KnKi9DvBqw2yF28Lv4A6hBcqWtYRfw1Yt5Rvete0V704aU1whrzolN51P182MaLrXOxd4m8vABb1Q8QYPxvmY5UuyCqVh717X5kgRq4b6YJZB2EtyQmCh0duYOY5l5Epqs2ZJ9A12zP0K8b4sbEo8YClrdGE.Xu6qrmbIgaHZCwfPBkHDK5bO5dUWC_7BX1mj7DWZabI&dib_tag=se&keywords=headphones&qid=1733765301&refinements=p_123%3A237204&rnid=91049095031&s=electronics&sprefix=headphone%2Caps%2C193&sr=1-9\n",
      "Fetching product 11 of 97: https://www.amazon.in//SONY-MDRZX310AB-BLACK-SONY-OVER-HEADPHONES/dp/B00IKYI6FO/ref=sr_1_10?crid=2LITCFDFEKL0P&dib=eyJ2IjoiMSJ9.znjszWxIDYu_N_NGL7gzq-AWX8iQ9EabBuFHNI-PbwqN4u2NSc1E1-nUeDdfrH2uOnSZf3LNYJk1_ph29ZSW2awotDyYwEMggeeYKcQG3b3sjwIBN1q0bQWj_g5LloFRYY0LL5caMLgh8i7KnKi9DvBqw2yF28Lv4A6hBcqWtYRfw1Yt5Rvete0V704aU1whrzolN51P182MaLrXOxd4m8vABb1Q8QYPxvmY5UuyCqVh717X5kgRq4b6YJZB2EtyQmCh0duYOY5l5Epqs2ZJ9A12zP0K8b4sbEo8YClrdGE.Xu6qrmbIgaHZCwfPBkHDK5bO5dUWC_7BX1mj7DWZabI&dib_tag=se&keywords=headphones&qid=1733765301&refinements=p_123%3A237204&rnid=91049095031&s=electronics&sprefix=headphone%2Caps%2C193&sr=1-10\n",
      "Fetching product 12 of 97: https://www.amazon.in//Sony-Headphones-Wh-Ult900N-Cancelling-Pair-Black/dp/B0CWVX1GNX/ref=sr_1_11?crid=2LITCFDFEKL0P&dib=eyJ2IjoiMSJ9.znjszWxIDYu_N_NGL7gzq-AWX8iQ9EabBuFHNI-PbwqN4u2NSc1E1-nUeDdfrH2uOnSZf3LNYJk1_ph29ZSW2awotDyYwEMggeeYKcQG3b3sjwIBN1q0bQWj_g5LloFRYY0LL5caMLgh8i7KnKi9DvBqw2yF28Lv4A6hBcqWtYRfw1Yt5Rvete0V704aU1whrzolN51P182MaLrXOxd4m8vABb1Q8QYPxvmY5UuyCqVh717X5kgRq4b6YJZB2EtyQmCh0duYOY5l5Epqs2ZJ9A12zP0K8b4sbEo8YClrdGE.Xu6qrmbIgaHZCwfPBkHDK5bO5dUWC_7BX1mj7DWZabI&dib_tag=se&keywords=headphones&qid=1733765301&refinements=p_123%3A237204&rnid=91049095031&s=electronics&sprefix=headphone%2Caps%2C193&sr=1-11\n",
      "Fetching product 13 of 97: https://www.amazon.in//Sony-Headphones-Customizable-Equalizer-DSEE-Upscale/dp/B09YLFHFDW/ref=sr_1_12?crid=2LITCFDFEKL0P&dib=eyJ2IjoiMSJ9.znjszWxIDYu_N_NGL7gzq-AWX8iQ9EabBuFHNI-PbwqN4u2NSc1E1-nUeDdfrH2uOnSZf3LNYJk1_ph29ZSW2awotDyYwEMggeeYKcQG3b3sjwIBN1q0bQWj_g5LloFRYY0LL5caMLgh8i7KnKi9DvBqw2yF28Lv4A6hBcqWtYRfw1Yt5Rvete0V704aU1whrzolN51P182MaLrXOxd4m8vABb1Q8QYPxvmY5UuyCqVh717X5kgRq4b6YJZB2EtyQmCh0duYOY5l5Epqs2ZJ9A12zP0K8b4sbEo8YClrdGE.Xu6qrmbIgaHZCwfPBkHDK5bO5dUWC_7BX1mj7DWZabI&dib_tag=se&keywords=headphones&qid=1733765301&refinements=p_123%3A237204&rnid=91049095031&s=electronics&sprefix=headphone%2Caps%2C193&sr=1-12\n",
      "Fetching product 14 of 97: https://www.amazon.in//Sony-Bluetooth-Headphones-Multipoint-Connectivity/dp/B0BS1QB15L/ref=sr_1_13?crid=2LITCFDFEKL0P&dib=eyJ2IjoiMSJ9.znjszWxIDYu_N_NGL7gzq-AWX8iQ9EabBuFHNI-PbwqN4u2NSc1E1-nUeDdfrH2uOnSZf3LNYJk1_ph29ZSW2awotDyYwEMggeeYKcQG3b3sjwIBN1q0bQWj_g5LloFRYY0LL5caMLgh8i7KnKi9DvBqw2yF28Lv4A6hBcqWtYRfw1Yt5Rvete0V704aU1whrzolN51P182MaLrXOxd4m8vABb1Q8QYPxvmY5UuyCqVh717X5kgRq4b6YJZB2EtyQmCh0duYOY5l5Epqs2ZJ9A12zP0K8b4sbEo8YClrdGE.Xu6qrmbIgaHZCwfPBkHDK5bO5dUWC_7BX1mj7DWZabI&dib_tag=se&keywords=headphones&qid=1733765301&refinements=p_123%3A237204&rnid=91049095031&s=electronics&sprefix=headphone%2Caps%2C193&sr=1-13\n",
      "Fetching product 15 of 97: https://www.amazon.in//Sony-MDR-EX155AP-Ear-Headphones-Black/dp/B073JQXC1J/ref=sr_1_14?crid=2LITCFDFEKL0P&dib=eyJ2IjoiMSJ9.znjszWxIDYu_N_NGL7gzq-AWX8iQ9EabBuFHNI-PbwqN4u2NSc1E1-nUeDdfrH2uOnSZf3LNYJk1_ph29ZSW2awotDyYwEMggeeYKcQG3b3sjwIBN1q0bQWj_g5LloFRYY0LL5caMLgh8i7KnKi9DvBqw2yF28Lv4A6hBcqWtYRfw1Yt5Rvete0V704aU1whrzolN51P182MaLrXOxd4m8vABb1Q8QYPxvmY5UuyCqVh717X5kgRq4b6YJZB2EtyQmCh0duYOY5l5Epqs2ZJ9A12zP0K8b4sbEo8YClrdGE.Xu6qrmbIgaHZCwfPBkHDK5bO5dUWC_7BX1mj7DWZabI&dib_tag=se&keywords=headphones&qid=1733765301&refinements=p_123%3A237204&rnid=91049095031&s=electronics&sprefix=headphone%2Caps%2C193&sr=1-14\n",
      "Fetching product 16 of 97: https://www.amazon.in//Sony-Headphones-WH-ULT900N-Cancelling-Pair-Forest/dp/B0D3TMKMYN/ref=sr_1_15?crid=2LITCFDFEKL0P&dib=eyJ2IjoiMSJ9.znjszWxIDYu_N_NGL7gzq-AWX8iQ9EabBuFHNI-PbwqN4u2NSc1E1-nUeDdfrH2uOnSZf3LNYJk1_ph29ZSW2awotDyYwEMggeeYKcQG3b3sjwIBN1q0bQWj_g5LloFRYY0LL5caMLgh8i7KnKi9DvBqw2yF28Lv4A6hBcqWtYRfw1Yt5Rvete0V704aU1whrzolN51P182MaLrXOxd4m8vABb1Q8QYPxvmY5UuyCqVh717X5kgRq4b6YJZB2EtyQmCh0duYOY5l5Epqs2ZJ9A12zP0K8b4sbEo8YClrdGE.Xu6qrmbIgaHZCwfPBkHDK5bO5dUWC_7BX1mj7DWZabI&dib_tag=se&keywords=headphones&qid=1733765301&refinements=p_123%3A237204&rnid=91049095031&s=electronics&sprefix=headphone%2Caps%2C193&sr=1-15\n",
      "Fetching product 17 of 97: https://www.amazon.in//Sony-Cancellation-Headphones-Multi-Point-Connection/dp/B0BS74M665/ref=sr_1_16?crid=2LITCFDFEKL0P&dib=eyJ2IjoiMSJ9.znjszWxIDYu_N_NGL7gzq-AWX8iQ9EabBuFHNI-PbwqN4u2NSc1E1-nUeDdfrH2uOnSZf3LNYJk1_ph29ZSW2awotDyYwEMggeeYKcQG3b3sjwIBN1q0bQWj_g5LloFRYY0LL5caMLgh8i7KnKi9DvBqw2yF28Lv4A6hBcqWtYRfw1Yt5Rvete0V704aU1whrzolN51P182MaLrXOxd4m8vABb1Q8QYPxvmY5UuyCqVh717X5kgRq4b6YJZB2EtyQmCh0duYOY5l5Epqs2ZJ9A12zP0K8b4sbEo8YClrdGE.Xu6qrmbIgaHZCwfPBkHDK5bO5dUWC_7BX1mj7DWZabI&dib_tag=se&keywords=headphones&qid=1733765301&refinements=p_123%3A237204&rnid=91049095031&s=electronics&sprefix=headphone%2Caps%2C193&sr=1-16\n",
      "Fetching product 18 of 97: https://www.amazon.in//Sony-MDR-EX255AP-Ear-Headphones-Black/dp/B073JQQK1Q/ref=sr_1_17?crid=2LITCFDFEKL0P&dib=eyJ2IjoiMSJ9.znjszWxIDYu_N_NGL7gzq-AWX8iQ9EabBuFHNI-PbwqN4u2NSc1E1-nUeDdfrH2uOnSZf3LNYJk1_ph29ZSW2awotDyYwEMggeeYKcQG3b3sjwIBN1q0bQWj_g5LloFRYY0LL5caMLgh8i7KnKi9DvBqw2yF28Lv4A6hBcqWtYRfw1Yt5Rvete0V704aU1whrzolN51P182MaLrXOxd4m8vABb1Q8QYPxvmY5UuyCqVh717X5kgRq4b6YJZB2EtyQmCh0duYOY5l5Epqs2ZJ9A12zP0K8b4sbEo8YClrdGE.Xu6qrmbIgaHZCwfPBkHDK5bO5dUWC_7BX1mj7DWZabI&dib_tag=se&keywords=headphones&qid=1733765301&refinements=p_123%3A237204&rnid=91049095031&s=electronics&sprefix=headphone%2Caps%2C193&sr=1-17\n",
      "Fetching product 19 of 97: https://www.amazon.in//Sony-WH-1000XM5-Wireless-Cancelling-Headphones/dp/B09XS7JWHH/ref=sr_1_18?crid=2LITCFDFEKL0P&dib=eyJ2IjoiMSJ9.znjszWxIDYu_N_NGL7gzq-AWX8iQ9EabBuFHNI-PbwqN4u2NSc1E1-nUeDdfrH2uOnSZf3LNYJk1_ph29ZSW2awotDyYwEMggeeYKcQG3b3sjwIBN1q0bQWj_g5LloFRYY0LL5caMLgh8i7KnKi9DvBqw2yF28Lv4A6hBcqWtYRfw1Yt5Rvete0V704aU1whrzolN51P182MaLrXOxd4m8vABb1Q8QYPxvmY5UuyCqVh717X5kgRq4b6YJZB2EtyQmCh0duYOY5l5Epqs2ZJ9A12zP0K8b4sbEo8YClrdGE.Xu6qrmbIgaHZCwfPBkHDK5bO5dUWC_7BX1mj7DWZabI&dib_tag=se&keywords=headphones&qid=1733765301&refinements=p_123%3A237204&rnid=91049095031&s=electronics&sprefix=headphone%2Caps%2C193&sr=1-18\n",
      "Fetching product 20 of 97: https://www.amazon.in//Sony-MDR-ZX110AP-Stereo-Headphones-Black/dp/B00NBR6RDS/ref=sr_1_19?crid=2LITCFDFEKL0P&dib=eyJ2IjoiMSJ9.znjszWxIDYu_N_NGL7gzq-AWX8iQ9EabBuFHNI-PbwqN4u2NSc1E1-nUeDdfrH2uOnSZf3LNYJk1_ph29ZSW2awotDyYwEMggeeYKcQG3b3sjwIBN1q0bQWj_g5LloFRYY0LL5caMLgh8i7KnKi9DvBqw2yF28Lv4A6hBcqWtYRfw1Yt5Rvete0V704aU1whrzolN51P182MaLrXOxd4m8vABb1Q8QYPxvmY5UuyCqVh717X5kgRq4b6YJZB2EtyQmCh0duYOY5l5Epqs2ZJ9A12zP0K8b4sbEo8YClrdGE.Xu6qrmbIgaHZCwfPBkHDK5bO5dUWC_7BX1mj7DWZabI&dib_tag=se&keywords=headphones&qid=1733765301&refinements=p_123%3A237204&rnid=91049095031&s=electronics&sprefix=headphone%2Caps%2C193&sr=1-19\n",
      "Fetching product 21 of 97: https://www.amazon.in//Sony-MDR-7506-Professional-Headphones-Black/dp/B000AJIF4E/ref=sr_1_20?crid=2LITCFDFEKL0P&dib=eyJ2IjoiMSJ9.znjszWxIDYu_N_NGL7gzq-AWX8iQ9EabBuFHNI-PbwqN4u2NSc1E1-nUeDdfrH2uOnSZf3LNYJk1_ph29ZSW2awotDyYwEMggeeYKcQG3b3sjwIBN1q0bQWj_g5LloFRYY0LL5caMLgh8i7KnKi9DvBqw2yF28Lv4A6hBcqWtYRfw1Yt5Rvete0V704aU1whrzolN51P182MaLrXOxd4m8vABb1Q8QYPxvmY5UuyCqVh717X5kgRq4b6YJZB2EtyQmCh0duYOY5l5Epqs2ZJ9A12zP0K8b4sbEo8YClrdGE.Xu6qrmbIgaHZCwfPBkHDK5bO5dUWC_7BX1mj7DWZabI&dib_tag=se&keywords=headphones&qid=1733765301&refinements=p_123%3A237204&rnid=91049095031&s=electronics&sprefix=headphone%2Caps%2C193&sr=1-20\n",
      "Fetching product 22 of 97: https://www.amazon.in//Sony-Headphones-Customizable-Equalizer-DSEE-Upscale/dp/B09TT3X7MF/ref=sr_1_21?crid=2LITCFDFEKL0P&dib=eyJ2IjoiMSJ9.znjszWxIDYu_N_NGL7gzq-AWX8iQ9EabBuFHNI-PbwqN4u2NSc1E1-nUeDdfrH2uOnSZf3LNYJk1_ph29ZSW2awotDyYwEMggeeYKcQG3b3sjwIBN1q0bQWj_g5LloFRYY0LL5caMLgh8i7KnKi9DvBqw2yF28Lv4A6hBcqWtYRfw1Yt5Rvete0V704aU1whrzolN51P182MaLrXOxd4m8vABb1Q8QYPxvmY5UuyCqVh717X5kgRq4b6YJZB2EtyQmCh0duYOY5l5Epqs2ZJ9A12zP0K8b4sbEo8YClrdGE.Xu6qrmbIgaHZCwfPBkHDK5bO5dUWC_7BX1mj7DWZabI&dib_tag=se&keywords=headphones&qid=1733765301&refinements=p_123%3A237204&rnid=91049095031&s=electronics&sprefix=headphone%2Caps%2C193&sr=1-21\n",
      "Fetching product 23 of 97: https://www.amazon.in//SONY-MDR-ZX310AP-Sound-Monitoring-Headphones/dp/B00K0AL3PQ/ref=sr_1_22?crid=2LITCFDFEKL0P&dib=eyJ2IjoiMSJ9.znjszWxIDYu_N_NGL7gzq-AWX8iQ9EabBuFHNI-PbwqN4u2NSc1E1-nUeDdfrH2uOnSZf3LNYJk1_ph29ZSW2awotDyYwEMggeeYKcQG3b3sjwIBN1q0bQWj_g5LloFRYY0LL5caMLgh8i7KnKi9DvBqw2yF28Lv4A6hBcqWtYRfw1Yt5Rvete0V704aU1whrzolN51P182MaLrXOxd4m8vABb1Q8QYPxvmY5UuyCqVh717X5kgRq4b6YJZB2EtyQmCh0duYOY5l5Epqs2ZJ9A12zP0K8b4sbEo8YClrdGE.Xu6qrmbIgaHZCwfPBkHDK5bO5dUWC_7BX1mj7DWZabI&dib_tag=se&keywords=headphones&qid=1733765301&refinements=p_123%3A237204&rnid=91049095031&s=electronics&sprefix=headphone%2Caps%2C193&sr=1-22\n",
      "Fetching product 24 of 97: https://www.amazon.in//Sony-WH-1000XM5-Wireless-Cancelling-Headphones/dp/B09XSDMT4F/ref=sr_1_23?crid=2LITCFDFEKL0P&dib=eyJ2IjoiMSJ9.znjszWxIDYu_N_NGL7gzq-AWX8iQ9EabBuFHNI-PbwqN4u2NSc1E1-nUeDdfrH2uOnSZf3LNYJk1_ph29ZSW2awotDyYwEMggeeYKcQG3b3sjwIBN1q0bQWj_g5LloFRYY0LL5caMLgh8i7KnKi9DvBqw2yF28Lv4A6hBcqWtYRfw1Yt5Rvete0V704aU1whrzolN51P182MaLrXOxd4m8vABb1Q8QYPxvmY5UuyCqVh717X5kgRq4b6YJZB2EtyQmCh0duYOY5l5Epqs2ZJ9A12zP0K8b4sbEo8YClrdGE.Xu6qrmbIgaHZCwfPBkHDK5bO5dUWC_7BX1mj7DWZabI&dib_tag=se&keywords=headphones&qid=1733765301&refinements=p_123%3A237204&rnid=91049095031&s=electronics&sprefix=headphone%2Caps%2C193&sr=1-23\n",
      "Fetching product 25 of 97: https://www.amazon.in//Sony-WH-1000XM4-Cancelling-Headphones-Bluetooth/dp/B0863FR3S9/ref=sr_1_24?crid=2LITCFDFEKL0P&dib=eyJ2IjoiMSJ9.znjszWxIDYu_N_NGL7gzq-AWX8iQ9EabBuFHNI-PbwqN4u2NSc1E1-nUeDdfrH2uOnSZf3LNYJk1_ph29ZSW2awotDyYwEMggeeYKcQG3b3sjwIBN1q0bQWj_g5LloFRYY0LL5caMLgh8i7KnKi9DvBqw2yF28Lv4A6hBcqWtYRfw1Yt5Rvete0V704aU1whrzolN51P182MaLrXOxd4m8vABb1Q8QYPxvmY5UuyCqVh717X5kgRq4b6YJZB2EtyQmCh0duYOY5l5Epqs2ZJ9A12zP0K8b4sbEo8YClrdGE.Xu6qrmbIgaHZCwfPBkHDK5bO5dUWC_7BX1mj7DWZabI&dib_tag=se&keywords=headphones&qid=1733765301&refinements=p_123%3A237204&rnid=91049095031&s=electronics&sprefix=headphone%2Caps%2C193&sr=1-24\n",
      "Fetching product 26 of 97: https://www.amazon.in//Sony-WH-1000XM4-Cancelling-Headphones-Bluetooth/dp/B0863FR3S9/ref=sr_1_25?crid=2LITCFDFEKL0P&dib=eyJ2IjoiMSJ9.Cfl-P8U873aEpbG-LFw_i3dkYVy4PPkQy6zos-2xA4j2w4i8CoqrvXD6bpIApKOwfjbNfp4BBT0Mex7e0yFFqL2C9oZFeznuzxskJG1R4Zu8b83hVDFkM4FKnqzgXFFvDp5TXDHeH9efCR-cr6xqW1M67G-KYmf5EpNE6J7Rtn-0O-CrfnF5BQ44nC-Vaka7hl_M8wXH_9VAP_357kyVZABfPTPM6-Hzhmf2KAjjjCRpGZyfRHmT6H6Sqxr4C_p-De99v4p4DZw8yincj4Ns5MsbCJU1tXa29UyK3Nskw74.QOWevnGA1IfMCnVpy07J57ohnwaqMtDJdt-L5Y0E5tw&dib_tag=se&keywords=headphones&qid=1733765305&refinements=p_123%3A237204&rnid=91049095031&s=electronics&sprefix=headphone%2Caps%2C193&sr=1-25\n",
      "Fetching product 27 of 97: https://www.amazon.in//Certified-REFURBISHED-Sony-MDR-EX14AP-Headphone/dp/B079DDL88X/ref=sr_1_26?crid=2LITCFDFEKL0P&dib=eyJ2IjoiMSJ9.Cfl-P8U873aEpbG-LFw_i3dkYVy4PPkQy6zos-2xA4j2w4i8CoqrvXD6bpIApKOwfjbNfp4BBT0Mex7e0yFFqL2C9oZFeznuzxskJG1R4Zu8b83hVDFkM4FKnqzgXFFvDp5TXDHeH9efCR-cr6xqW1M67G-KYmf5EpNE6J7Rtn-0O-CrfnF5BQ44nC-Vaka7hl_M8wXH_9VAP_357kyVZABfPTPM6-Hzhmf2KAjjjCRpGZyfRHmT6H6Sqxr4C_p-De99v4p4DZw8yincj4Ns5MsbCJU1tXa29UyK3Nskw74.QOWevnGA1IfMCnVpy07J57ohnwaqMtDJdt-L5Y0E5tw&dib_tag=se&keywords=headphones&qid=1733765305&refinements=p_123%3A237204&rnid=91049095031&s=electronics&sprefix=headphone%2Caps%2C193&sr=1-26\n",
      "Fetching product 28 of 97: https://www.amazon.in//Sony-MDR-EX15AP-Stereo-Headphones-Black/dp/B00ILAA0QU/ref=sr_1_27?crid=2LITCFDFEKL0P&dib=eyJ2IjoiMSJ9.Cfl-P8U873aEpbG-LFw_i3dkYVy4PPkQy6zos-2xA4j2w4i8CoqrvXD6bpIApKOwfjbNfp4BBT0Mex7e0yFFqL2C9oZFeznuzxskJG1R4Zu8b83hVDFkM4FKnqzgXFFvDp5TXDHeH9efCR-cr6xqW1M67G-KYmf5EpNE6J7Rtn-0O-CrfnF5BQ44nC-Vaka7hl_M8wXH_9VAP_357kyVZABfPTPM6-Hzhmf2KAjjjCRpGZyfRHmT6H6Sqxr4C_p-De99v4p4DZw8yincj4Ns5MsbCJU1tXa29UyK3Nskw74.QOWevnGA1IfMCnVpy07J57ohnwaqMtDJdt-L5Y0E5tw&dib_tag=se&keywords=headphones&qid=1733765305&refinements=p_123%3A237204&rnid=91049095031&s=electronics&sprefix=headphone%2Caps%2C193&sr=1-27\n",
      "Fetching product 29 of 97: https://www.amazon.in//Sony-Headphones-Professional-Connector-Compatible/dp/B0B1SXW7LB/ref=sr_1_28?crid=2LITCFDFEKL0P&dib=eyJ2IjoiMSJ9.Cfl-P8U873aEpbG-LFw_i3dkYVy4PPkQy6zos-2xA4j2w4i8CoqrvXD6bpIApKOwfjbNfp4BBT0Mex7e0yFFqL2C9oZFeznuzxskJG1R4Zu8b83hVDFkM4FKnqzgXFFvDp5TXDHeH9efCR-cr6xqW1M67G-KYmf5EpNE6J7Rtn-0O-CrfnF5BQ44nC-Vaka7hl_M8wXH_9VAP_357kyVZABfPTPM6-Hzhmf2KAjjjCRpGZyfRHmT6H6Sqxr4C_p-De99v4p4DZw8yincj4Ns5MsbCJU1tXa29UyK3Nskw74.QOWevnGA1IfMCnVpy07J57ohnwaqMtDJdt-L5Y0E5tw&dib_tag=se&keywords=headphones&qid=1733765305&refinements=p_123%3A237204&rnid=91049095031&s=electronics&sprefix=headphone%2Caps%2C193&sr=1-28\n",
      "Fetching product 30 of 97: https://www.amazon.in//Refurbished-Sony-WH-CH520-Bluetooth-Headphones/dp/B0C53WG84G/ref=sr_1_29?crid=2LITCFDFEKL0P&dib=eyJ2IjoiMSJ9.Cfl-P8U873aEpbG-LFw_i3dkYVy4PPkQy6zos-2xA4j2w4i8CoqrvXD6bpIApKOwfjbNfp4BBT0Mex7e0yFFqL2C9oZFeznuzxskJG1R4Zu8b83hVDFkM4FKnqzgXFFvDp5TXDHeH9efCR-cr6xqW1M67G-KYmf5EpNE6J7Rtn-0O-CrfnF5BQ44nC-Vaka7hl_M8wXH_9VAP_357kyVZABfPTPM6-Hzhmf2KAjjjCRpGZyfRHmT6H6Sqxr4C_p-De99v4p4DZw8yincj4Ns5MsbCJU1tXa29UyK3Nskw74.QOWevnGA1IfMCnVpy07J57ohnwaqMtDJdt-L5Y0E5tw&dib_tag=se&keywords=headphones&qid=1733765305&refinements=p_123%3A237204&rnid=91049095031&s=electronics&sprefix=headphone%2Caps%2C193&sr=1-29\n",
      "Fetching product 31 of 97: https://www.amazon.in//Sony-WH-1000XM4-Cancelling-Bluetooth-Headphones/dp/B091CQH6VT/ref=sr_1_30?crid=2LITCFDFEKL0P&dib=eyJ2IjoiMSJ9.Cfl-P8U873aEpbG-LFw_i3dkYVy4PPkQy6zos-2xA4j2w4i8CoqrvXD6bpIApKOwfjbNfp4BBT0Mex7e0yFFqL2C9oZFeznuzxskJG1R4Zu8b83hVDFkM4FKnqzgXFFvDp5TXDHeH9efCR-cr6xqW1M67G-KYmf5EpNE6J7Rtn-0O-CrfnF5BQ44nC-Vaka7hl_M8wXH_9VAP_357kyVZABfPTPM6-Hzhmf2KAjjjCRpGZyfRHmT6H6Sqxr4C_p-De99v4p4DZw8yincj4Ns5MsbCJU1tXa29UyK3Nskw74.QOWevnGA1IfMCnVpy07J57ohnwaqMtDJdt-L5Y0E5tw&dib_tag=se&keywords=headphones&qid=1733765305&refinements=p_123%3A237204&rnid=91049095031&s=electronics&sprefix=headphone%2Caps%2C193&sr=1-30\n",
      "Fetching product 32 of 97: https://www.amazon.in//Sony-MDR-EX14AP-Ear-Headset-Blue/dp/B075YZXXFB/ref=sr_1_31?crid=2LITCFDFEKL0P&dib=eyJ2IjoiMSJ9.Cfl-P8U873aEpbG-LFw_i3dkYVy4PPkQy6zos-2xA4j2w4i8CoqrvXD6bpIApKOwfjbNfp4BBT0Mex7e0yFFqL2C9oZFeznuzxskJG1R4Zu8b83hVDFkM4FKnqzgXFFvDp5TXDHeH9efCR-cr6xqW1M67G-KYmf5EpNE6J7Rtn-0O-CrfnF5BQ44nC-Vaka7hl_M8wXH_9VAP_357kyVZABfPTPM6-Hzhmf2KAjjjCRpGZyfRHmT6H6Sqxr4C_p-De99v4p4DZw8yincj4Ns5MsbCJU1tXa29UyK3Nskw74.QOWevnGA1IfMCnVpy07J57ohnwaqMtDJdt-L5Y0E5tw&dib_tag=se&keywords=headphones&qid=1733765305&refinements=p_123%3A237204&rnid=91049095031&s=electronics&sprefix=headphone%2Caps%2C193&sr=1-31\n",
      "Fetching product 33 of 97: https://www.amazon.in//Sony-Dynamic-closed-type-headphones-MDR-ZX310-L/dp/B00HZD3UFM/ref=sr_1_32?crid=2LITCFDFEKL0P&dib=eyJ2IjoiMSJ9.Cfl-P8U873aEpbG-LFw_i3dkYVy4PPkQy6zos-2xA4j2w4i8CoqrvXD6bpIApKOwfjbNfp4BBT0Mex7e0yFFqL2C9oZFeznuzxskJG1R4Zu8b83hVDFkM4FKnqzgXFFvDp5TXDHeH9efCR-cr6xqW1M67G-KYmf5EpNE6J7Rtn-0O-CrfnF5BQ44nC-Vaka7hl_M8wXH_9VAP_357kyVZABfPTPM6-Hzhmf2KAjjjCRpGZyfRHmT6H6Sqxr4C_p-De99v4p4DZw8yincj4Ns5MsbCJU1tXa29UyK3Nskw74.QOWevnGA1IfMCnVpy07J57ohnwaqMtDJdt-L5Y0E5tw&dib_tag=se&keywords=headphones&qid=1733765305&refinements=p_123%3A237204&rnid=91049095031&s=electronics&sprefix=headphone%2Caps%2C193&sr=1-32\n",
      "Fetching product 34 of 97: https://www.amazon.in//Sony-WH-1000XM5-Cancelling-Bluetooth-Headphones/dp/B0DGL6R3SX/ref=sr_1_33?crid=2LITCFDFEKL0P&dib=eyJ2IjoiMSJ9.Cfl-P8U873aEpbG-LFw_i3dkYVy4PPkQy6zos-2xA4j2w4i8CoqrvXD6bpIApKOwfjbNfp4BBT0Mex7e0yFFqL2C9oZFeznuzxskJG1R4Zu8b83hVDFkM4FKnqzgXFFvDp5TXDHeH9efCR-cr6xqW1M67G-KYmf5EpNE6J7Rtn-0O-CrfnF5BQ44nC-Vaka7hl_M8wXH_9VAP_357kyVZABfPTPM6-Hzhmf2KAjjjCRpGZyfRHmT6H6Sqxr4C_p-De99v4p4DZw8yincj4Ns5MsbCJU1tXa29UyK3Nskw74.QOWevnGA1IfMCnVpy07J57ohnwaqMtDJdt-L5Y0E5tw&dib_tag=se&keywords=headphones&qid=1733765305&refinements=p_123%3A237204&rnid=91049095031&s=electronics&sprefix=headphone%2Caps%2C193&sr=1-33\n",
      "Fetching product 35 of 97: https://www.amazon.in//Sony-WF-C500-Bluetooth-Wireless-transactions/dp/B09PC695Q9/ref=sr_1_34?crid=2LITCFDFEKL0P&dib=eyJ2IjoiMSJ9.Cfl-P8U873aEpbG-LFw_i3dkYVy4PPkQy6zos-2xA4j2w4i8CoqrvXD6bpIApKOwfjbNfp4BBT0Mex7e0yFFqL2C9oZFeznuzxskJG1R4Zu8b83hVDFkM4FKnqzgXFFvDp5TXDHeH9efCR-cr6xqW1M67G-KYmf5EpNE6J7Rtn-0O-CrfnF5BQ44nC-Vaka7hl_M8wXH_9VAP_357kyVZABfPTPM6-Hzhmf2KAjjjCRpGZyfRHmT6H6Sqxr4C_p-De99v4p4DZw8yincj4Ns5MsbCJU1tXa29UyK3Nskw74.QOWevnGA1IfMCnVpy07J57ohnwaqMtDJdt-L5Y0E5tw&dib_tag=se&keywords=headphones&qid=1733765305&refinements=p_123%3A237204&rnid=91049095031&s=electronics&sprefix=headphone%2Caps%2C193&sr=1-34\n",
      "Fetching product 36 of 97: https://www.amazon.in//Sony-Headphones-Customizable-Equalizer-DSEE-Upscale/dp/B09YKYJX7Y/ref=sr_1_35?crid=2LITCFDFEKL0P&dib=eyJ2IjoiMSJ9.Cfl-P8U873aEpbG-LFw_i3dkYVy4PPkQy6zos-2xA4j2w4i8CoqrvXD6bpIApKOwfjbNfp4BBT0Mex7e0yFFqL2C9oZFeznuzxskJG1R4Zu8b83hVDFkM4FKnqzgXFFvDp5TXDHeH9efCR-cr6xqW1M67G-KYmf5EpNE6J7Rtn-0O-CrfnF5BQ44nC-Vaka7hl_M8wXH_9VAP_357kyVZABfPTPM6-Hzhmf2KAjjjCRpGZyfRHmT6H6Sqxr4C_p-De99v4p4DZw8yincj4Ns5MsbCJU1tXa29UyK3Nskw74.QOWevnGA1IfMCnVpy07J57ohnwaqMtDJdt-L5Y0E5tw&dib_tag=se&keywords=headphones&qid=1733765305&refinements=p_123%3A237204&rnid=91049095031&s=electronics&sprefix=headphone%2Caps%2C193&sr=1-35\n",
      "Fetching product 37 of 97: https://www.amazon.in//Sony-Wf-C510-Wireless-Bluetooth-Comfortable/dp/B0D9R4GYTN/ref=sr_1_36?crid=2LITCFDFEKL0P&dib=eyJ2IjoiMSJ9.Cfl-P8U873aEpbG-LFw_i3dkYVy4PPkQy6zos-2xA4j2w4i8CoqrvXD6bpIApKOwfjbNfp4BBT0Mex7e0yFFqL2C9oZFeznuzxskJG1R4Zu8b83hVDFkM4FKnqzgXFFvDp5TXDHeH9efCR-cr6xqW1M67G-KYmf5EpNE6J7Rtn-0O-CrfnF5BQ44nC-Vaka7hl_M8wXH_9VAP_357kyVZABfPTPM6-Hzhmf2KAjjjCRpGZyfRHmT6H6Sqxr4C_p-De99v4p4DZw8yincj4Ns5MsbCJU1tXa29UyK3Nskw74.QOWevnGA1IfMCnVpy07J57ohnwaqMtDJdt-L5Y0E5tw&dib_tag=se&keywords=headphones&qid=1733765305&refinements=p_123%3A237204&rnid=91049095031&s=electronics&sprefix=headphone%2Caps%2C193&sr=1-36\n",
      "Fetching product 38 of 97: https://www.amazon.in//Refurbished-Sony-MDR-ZX310AP-Headband-Headset/dp/B0D576K2MM/ref=sr_1_37?crid=2LITCFDFEKL0P&dib=eyJ2IjoiMSJ9.Cfl-P8U873aEpbG-LFw_i3dkYVy4PPkQy6zos-2xA4j2w4i8CoqrvXD6bpIApKOwfjbNfp4BBT0Mex7e0yFFqL2C9oZFeznuzxskJG1R4Zu8b83hVDFkM4FKnqzgXFFvDp5TXDHeH9efCR-cr6xqW1M67G-KYmf5EpNE6J7Rtn-0O-CrfnF5BQ44nC-Vaka7hl_M8wXH_9VAP_357kyVZABfPTPM6-Hzhmf2KAjjjCRpGZyfRHmT6H6Sqxr4C_p-De99v4p4DZw8yincj4Ns5MsbCJU1tXa29UyK3Nskw74.QOWevnGA1IfMCnVpy07J57ohnwaqMtDJdt-L5Y0E5tw&dib_tag=se&keywords=headphones&qid=1733765305&refinements=p_123%3A237204&rnid=91049095031&s=electronics&sprefix=headphone%2Caps%2C193&sr=1-37\n",
      "Fetching product 39 of 97: https://www.amazon.in//Sony-Headphones-Mastering-Excellent-Creation/dp/B0C4YY6WXX/ref=sr_1_38?crid=2LITCFDFEKL0P&dib=eyJ2IjoiMSJ9.Cfl-P8U873aEpbG-LFw_i3dkYVy4PPkQy6zos-2xA4j2w4i8CoqrvXD6bpIApKOwfjbNfp4BBT0Mex7e0yFFqL2C9oZFeznuzxskJG1R4Zu8b83hVDFkM4FKnqzgXFFvDp5TXDHeH9efCR-cr6xqW1M67G-KYmf5EpNE6J7Rtn-0O-CrfnF5BQ44nC-Vaka7hl_M8wXH_9VAP_357kyVZABfPTPM6-Hzhmf2KAjjjCRpGZyfRHmT6H6Sqxr4C_p-De99v4p4DZw8yincj4Ns5MsbCJU1tXa29UyK3Nskw74.QOWevnGA1IfMCnVpy07J57ohnwaqMtDJdt-L5Y0E5tw&dib_tag=se&keywords=headphones&qid=1733765305&refinements=p_123%3A237204&rnid=91049095031&s=electronics&sprefix=headphone%2Caps%2C193&sr=1-38\n",
      "Fetching product 40 of 97: https://www.amazon.in//Sony-MDR-M1-Resolution-Headphones-Audiophile/dp/B0DD8SHVZL/ref=sr_1_39?crid=2LITCFDFEKL0P&dib=eyJ2IjoiMSJ9.Cfl-P8U873aEpbG-LFw_i3dkYVy4PPkQy6zos-2xA4j2w4i8CoqrvXD6bpIApKOwfjbNfp4BBT0Mex7e0yFFqL2C9oZFeznuzxskJG1R4Zu8b83hVDFkM4FKnqzgXFFvDp5TXDHeH9efCR-cr6xqW1M67G-KYmf5EpNE6J7Rtn-0O-CrfnF5BQ44nC-Vaka7hl_M8wXH_9VAP_357kyVZABfPTPM6-Hzhmf2KAjjjCRpGZyfRHmT6H6Sqxr4C_p-De99v4p4DZw8yincj4Ns5MsbCJU1tXa29UyK3Nskw74.QOWevnGA1IfMCnVpy07J57ohnwaqMtDJdt-L5Y0E5tw&dib_tag=se&keywords=headphones&qid=1733765305&refinements=p_123%3A237204&rnid=91049095031&s=electronics&sprefix=headphone%2Caps%2C193&sr=1-39\n",
      "Fetching product 41 of 97: https://www.amazon.in//REFURBISHED-Sony-MDR-ZX310AP-Monitoring-Headphones/dp/B077Q29B29/ref=sr_1_40?crid=2LITCFDFEKL0P&dib=eyJ2IjoiMSJ9.Cfl-P8U873aEpbG-LFw_i3dkYVy4PPkQy6zos-2xA4j2w4i8CoqrvXD6bpIApKOwfjbNfp4BBT0Mex7e0yFFqL2C9oZFeznuzxskJG1R4Zu8b83hVDFkM4FKnqzgXFFvDp5TXDHeH9efCR-cr6xqW1M67G-KYmf5EpNE6J7Rtn-0O-CrfnF5BQ44nC-Vaka7hl_M8wXH_9VAP_357kyVZABfPTPM6-Hzhmf2KAjjjCRpGZyfRHmT6H6Sqxr4C_p-De99v4p4DZw8yincj4Ns5MsbCJU1tXa29UyK3Nskw74.QOWevnGA1IfMCnVpy07J57ohnwaqMtDJdt-L5Y0E5tw&dib_tag=se&keywords=headphones&qid=1733765305&refinements=p_123%3A237204&rnid=91049095031&s=electronics&sprefix=headphone%2Caps%2C193&sr=1-40\n",
      "Fetching product 42 of 97: https://www.amazon.in//Sony-WF-1000XM5-Cancelling-Headphones-Multi-Point/dp/B0C33XXS56/ref=sr_1_41?crid=2LITCFDFEKL0P&dib=eyJ2IjoiMSJ9.Cfl-P8U873aEpbG-LFw_i3dkYVy4PPkQy6zos-2xA4j2w4i8CoqrvXD6bpIApKOwfjbNfp4BBT0Mex7e0yFFqL2C9oZFeznuzxskJG1R4Zu8b83hVDFkM4FKnqzgXFFvDp5TXDHeH9efCR-cr6xqW1M67G-KYmf5EpNE6J7Rtn-0O-CrfnF5BQ44nC-Vaka7hl_M8wXH_9VAP_357kyVZABfPTPM6-Hzhmf2KAjjjCRpGZyfRHmT6H6Sqxr4C_p-De99v4p4DZw8yincj4Ns5MsbCJU1tXa29UyK3Nskw74.QOWevnGA1IfMCnVpy07J57ohnwaqMtDJdt-L5Y0E5tw&dib_tag=se&keywords=headphones&qid=1733765305&refinements=p_123%3A237204&rnid=91049095031&s=electronics&sprefix=headphone%2Caps%2C193&sr=1-41\n",
      "Fetching product 43 of 97: https://www.amazon.in//Sony-Wf-C510-Wireless-Bluetooth-Comfortable/dp/B0DGQNXDJP/ref=sr_1_42?crid=2LITCFDFEKL0P&dib=eyJ2IjoiMSJ9.Cfl-P8U873aEpbG-LFw_i3dkYVy4PPkQy6zos-2xA4j2w4i8CoqrvXD6bpIApKOwfjbNfp4BBT0Mex7e0yFFqL2C9oZFeznuzxskJG1R4Zu8b83hVDFkM4FKnqzgXFFvDp5TXDHeH9efCR-cr6xqW1M67G-KYmf5EpNE6J7Rtn-0O-CrfnF5BQ44nC-Vaka7hl_M8wXH_9VAP_357kyVZABfPTPM6-Hzhmf2KAjjjCRpGZyfRHmT6H6Sqxr4C_p-De99v4p4DZw8yincj4Ns5MsbCJU1tXa29UyK3Nskw74.QOWevnGA1IfMCnVpy07J57ohnwaqMtDJdt-L5Y0E5tw&dib_tag=se&keywords=headphones&qid=1733765305&refinements=p_123%3A237204&rnid=91049095031&s=electronics&sprefix=headphone%2Caps%2C193&sr=1-42\n",
      "Fetching product 44 of 97: https://www.amazon.in//Sony-WF-C500-Bluetooth-Wireless-transactions/dp/B09PC4YK12/ref=sr_1_43?crid=2LITCFDFEKL0P&dib=eyJ2IjoiMSJ9.Cfl-P8U873aEpbG-LFw_i3dkYVy4PPkQy6zos-2xA4j2w4i8CoqrvXD6bpIApKOwfjbNfp4BBT0Mex7e0yFFqL2C9oZFeznuzxskJG1R4Zu8b83hVDFkM4FKnqzgXFFvDp5TXDHeH9efCR-cr6xqW1M67G-KYmf5EpNE6J7Rtn-0O-CrfnF5BQ44nC-Vaka7hl_M8wXH_9VAP_357kyVZABfPTPM6-Hzhmf2KAjjjCRpGZyfRHmT6H6Sqxr4C_p-De99v4p4DZw8yincj4Ns5MsbCJU1tXa29UyK3Nskw74.QOWevnGA1IfMCnVpy07J57ohnwaqMtDJdt-L5Y0E5tw&dib_tag=se&keywords=headphones&qid=1733765305&refinements=p_123%3A237204&rnid=91049095031&s=electronics&sprefix=headphone%2Caps%2C193&sr=1-43\n",
      "Fetching product 45 of 97: https://www.amazon.in//Sony-Extra-Bass-MDR-XB450AP-Headphones/dp/B07Y2797RG/ref=sr_1_44?crid=2LITCFDFEKL0P&dib=eyJ2IjoiMSJ9.Cfl-P8U873aEpbG-LFw_i3dkYVy4PPkQy6zos-2xA4j2w4i8CoqrvXD6bpIApKOwfjbNfp4BBT0Mex7e0yFFqL2C9oZFeznuzxskJG1R4Zu8b83hVDFkM4FKnqzgXFFvDp5TXDHeH9efCR-cr6xqW1M67G-KYmf5EpNE6J7Rtn-0O-CrfnF5BQ44nC-Vaka7hl_M8wXH_9VAP_357kyVZABfPTPM6-Hzhmf2KAjjjCRpGZyfRHmT6H6Sqxr4C_p-De99v4p4DZw8yincj4Ns5MsbCJU1tXa29UyK3Nskw74.QOWevnGA1IfMCnVpy07J57ohnwaqMtDJdt-L5Y0E5tw&dib_tag=se&keywords=headphones&qid=1733765305&refinements=p_123%3A237204&rnid=91049095031&s=electronics&sprefix=headphone%2Caps%2C193&sr=1-44\n",
      "Fetching product 46 of 97: https://www.amazon.in//Sony-WF-C700N-Cancellation-Multipoint-Support-Sage/dp/B0C9ZSN3P1/ref=sr_1_45?crid=2LITCFDFEKL0P&dib=eyJ2IjoiMSJ9.Cfl-P8U873aEpbG-LFw_i3dkYVy4PPkQy6zos-2xA4j2w4i8CoqrvXD6bpIApKOwfjbNfp4BBT0Mex7e0yFFqL2C9oZFeznuzxskJG1R4Zu8b83hVDFkM4FKnqzgXFFvDp5TXDHeH9efCR-cr6xqW1M67G-KYmf5EpNE6J7Rtn-0O-CrfnF5BQ44nC-Vaka7hl_M8wXH_9VAP_357kyVZABfPTPM6-Hzhmf2KAjjjCRpGZyfRHmT6H6Sqxr4C_p-De99v4p4DZw8yincj4Ns5MsbCJU1tXa29UyK3Nskw74.QOWevnGA1IfMCnVpy07J57ohnwaqMtDJdt-L5Y0E5tw&dib_tag=se&keywords=headphones&qid=1733765305&refinements=p_123%3A237204&rnid=91049095031&s=electronics&sprefix=headphone%2Caps%2C193&sr=1-45\n",
      "Fetching product 47 of 97: https://www.amazon.in//Sony-WH-G900N-Cancelling-Compatible-transactions/dp/B0B1TDHLPT/ref=sr_1_46?crid=2LITCFDFEKL0P&dib=eyJ2IjoiMSJ9.Cfl-P8U873aEpbG-LFw_i3dkYVy4PPkQy6zos-2xA4j2w4i8CoqrvXD6bpIApKOwfjbNfp4BBT0Mex7e0yFFqL2C9oZFeznuzxskJG1R4Zu8b83hVDFkM4FKnqzgXFFvDp5TXDHeH9efCR-cr6xqW1M67G-KYmf5EpNE6J7Rtn-0O-CrfnF5BQ44nC-Vaka7hl_M8wXH_9VAP_357kyVZABfPTPM6-Hzhmf2KAjjjCRpGZyfRHmT6H6Sqxr4C_p-De99v4p4DZw8yincj4Ns5MsbCJU1tXa29UyK3Nskw74.QOWevnGA1IfMCnVpy07J57ohnwaqMtDJdt-L5Y0E5tw&dib_tag=se&keywords=headphones&qid=1733765305&refinements=p_123%3A237204&rnid=91049095031&s=electronics&sprefix=headphone%2Caps%2C193&sr=1-46\n",
      "Fetching product 48 of 97: https://www.amazon.in//Sony-Wf-C510-Wireless-Bluetooth-Comfortable/dp/B0D9R45FMH/ref=sr_1_47?crid=2LITCFDFEKL0P&dib=eyJ2IjoiMSJ9.Cfl-P8U873aEpbG-LFw_i3dkYVy4PPkQy6zos-2xA4j2w4i8CoqrvXD6bpIApKOwfjbNfp4BBT0Mex7e0yFFqL2C9oZFeznuzxskJG1R4Zu8b83hVDFkM4FKnqzgXFFvDp5TXDHeH9efCR-cr6xqW1M67G-KYmf5EpNE6J7Rtn-0O-CrfnF5BQ44nC-Vaka7hl_M8wXH_9VAP_357kyVZABfPTPM6-Hzhmf2KAjjjCRpGZyfRHmT6H6Sqxr4C_p-De99v4p4DZw8yincj4Ns5MsbCJU1tXa29UyK3Nskw74.QOWevnGA1IfMCnVpy07J57ohnwaqMtDJdt-L5Y0E5tw&dib_tag=se&keywords=headphones&qid=1733765305&refinements=p_123%3A237204&rnid=91049095031&s=electronics&sprefix=headphone%2Caps%2C193&sr=1-47\n",
      "Fetching product 49 of 97: https://www.amazon.in//Sony-Cancellation-Multipoint-Connection-Support-Black/dp/B0BYPFNW6T/ref=sr_1_48?crid=2LITCFDFEKL0P&dib=eyJ2IjoiMSJ9.Cfl-P8U873aEpbG-LFw_i3dkYVy4PPkQy6zos-2xA4j2w4i8CoqrvXD6bpIApKOwfjbNfp4BBT0Mex7e0yFFqL2C9oZFeznuzxskJG1R4Zu8b83hVDFkM4FKnqzgXFFvDp5TXDHeH9efCR-cr6xqW1M67G-KYmf5EpNE6J7Rtn-0O-CrfnF5BQ44nC-Vaka7hl_M8wXH_9VAP_357kyVZABfPTPM6-Hzhmf2KAjjjCRpGZyfRHmT6H6Sqxr4C_p-De99v4p4DZw8yincj4Ns5MsbCJU1tXa29UyK3Nskw74.QOWevnGA1IfMCnVpy07J57ohnwaqMtDJdt-L5Y0E5tw&dib_tag=se&keywords=headphones&qid=1733765305&refinements=p_123%3A237204&rnid=91049095031&s=electronics&sprefix=headphone%2Caps%2C193&sr=1-48\n",
      "Fetching product 50 of 97: https://www.amazon.in//Sony-Cancellation-Multipoint-Connection-Support-Black/dp/B0BYPFNW6T/ref=sr_1_49?crid=2LITCFDFEKL0P&dib=eyJ2IjoiMSJ9.nPJ2JYi6irUWfO8BjE2e2n0xtxRmRAcoaM7WYsDlNBd3486b96C5RqDU4XjWvneTqXrqYMVhT2T0OsNrK8lkT37h4haJtEwVpTyMQoHB1PGKVUYPGAaBAaRjHJBLdtr-5hf0IG2ajCr1oK0NQklUu6-YyQmENwzxy6VJ_MezxYk1etKY3LWZiq6eb3wl9TbRgXGrbTAnH0uGZMz660QkrQZ_T2kebqLkGMADn5cPF6-QXUjNCd_AzJk3TSTuajDWs791XypTghIpqOrwH77Jv-NWKits1HFb2tajIso84ME._6YN-Xhb6lo0k7cMomAY8lMR9rg07bbOVSQzh-SJfl8&dib_tag=se&keywords=headphones&qid=1733765309&refinements=p_123%3A237204&rnid=91049095031&s=electronics&sprefix=headphone%2Caps%2C193&sr=1-49\n",
      "Fetching product 51 of 97: https://www.amazon.in//Refurbished-Sony-Cancellation-Headphones-Multi-Point/dp/B0CC1P6SBF/ref=sr_1_50?crid=2LITCFDFEKL0P&dib=eyJ2IjoiMSJ9.nPJ2JYi6irUWfO8BjE2e2n0xtxRmRAcoaM7WYsDlNBd3486b96C5RqDU4XjWvneTqXrqYMVhT2T0OsNrK8lkT37h4haJtEwVpTyMQoHB1PGKVUYPGAaBAaRjHJBLdtr-5hf0IG2ajCr1oK0NQklUu6-YyQmENwzxy6VJ_MezxYk1etKY3LWZiq6eb3wl9TbRgXGrbTAnH0uGZMz660QkrQZ_T2kebqLkGMADn5cPF6-QXUjNCd_AzJk3TSTuajDWs791XypTghIpqOrwH77Jv-NWKits1HFb2tajIso84ME._6YN-Xhb6lo0k7cMomAY8lMR9rg07bbOVSQzh-SJfl8&dib_tag=se&keywords=headphones&qid=1733765309&refinements=p_123%3A237204&rnid=91049095031&s=electronics&sprefix=headphone%2Caps%2C193&sr=1-50\n",
      "Fetching product 52 of 97: https://www.amazon.in//Sony-Wi-Oe610-Headphones-Designed-Open-Ear/dp/B0CQ4LP8K4/ref=sr_1_51?crid=2LITCFDFEKL0P&dib=eyJ2IjoiMSJ9.nPJ2JYi6irUWfO8BjE2e2n0xtxRmRAcoaM7WYsDlNBd3486b96C5RqDU4XjWvneTqXrqYMVhT2T0OsNrK8lkT37h4haJtEwVpTyMQoHB1PGKVUYPGAaBAaRjHJBLdtr-5hf0IG2ajCr1oK0NQklUu6-YyQmENwzxy6VJ_MezxYk1etKY3LWZiq6eb3wl9TbRgXGrbTAnH0uGZMz660QkrQZ_T2kebqLkGMADn5cPF6-QXUjNCd_AzJk3TSTuajDWs791XypTghIpqOrwH77Jv-NWKits1HFb2tajIso84ME._6YN-Xhb6lo0k7cMomAY8lMR9rg07bbOVSQzh-SJfl8&dib_tag=se&keywords=headphones&qid=1733765309&refinements=p_123%3A237204&rnid=91049095031&s=electronics&sprefix=headphone%2Caps%2C193&sr=1-51\n",
      "Fetching product 53 of 97: https://www.amazon.in//Sony-Wf-C510-Wireless-Bluetooth-Comfortable/dp/B0D9R2KDY9/ref=sr_1_52?crid=2LITCFDFEKL0P&dib=eyJ2IjoiMSJ9.nPJ2JYi6irUWfO8BjE2e2n0xtxRmRAcoaM7WYsDlNBd3486b96C5RqDU4XjWvneTqXrqYMVhT2T0OsNrK8lkT37h4haJtEwVpTyMQoHB1PGKVUYPGAaBAaRjHJBLdtr-5hf0IG2ajCr1oK0NQklUu6-YyQmENwzxy6VJ_MezxYk1etKY3LWZiq6eb3wl9TbRgXGrbTAnH0uGZMz660QkrQZ_T2kebqLkGMADn5cPF6-QXUjNCd_AzJk3TSTuajDWs791XypTghIpqOrwH77Jv-NWKits1HFb2tajIso84ME._6YN-Xhb6lo0k7cMomAY8lMR9rg07bbOVSQzh-SJfl8&dib_tag=se&keywords=headphones&qid=1733765309&refinements=p_123%3A237204&rnid=91049095031&s=electronics&sprefix=headphone%2Caps%2C193&sr=1-52\n",
      "Fetching product 54 of 97: https://www.amazon.in//Sony-Wireless-Bidirectional-Microphone-White-Over/dp/B0CNPD3NSK/ref=sr_1_53?crid=2LITCFDFEKL0P&dib=eyJ2IjoiMSJ9.nPJ2JYi6irUWfO8BjE2e2n0xtxRmRAcoaM7WYsDlNBd3486b96C5RqDU4XjWvneTqXrqYMVhT2T0OsNrK8lkT37h4haJtEwVpTyMQoHB1PGKVUYPGAaBAaRjHJBLdtr-5hf0IG2ajCr1oK0NQklUu6-YyQmENwzxy6VJ_MezxYk1etKY3LWZiq6eb3wl9TbRgXGrbTAnH0uGZMz660QkrQZ_T2kebqLkGMADn5cPF6-QXUjNCd_AzJk3TSTuajDWs791XypTghIpqOrwH77Jv-NWKits1HFb2tajIso84ME._6YN-Xhb6lo0k7cMomAY8lMR9rg07bbOVSQzh-SJfl8&dib_tag=se&keywords=headphones&qid=1733765309&refinements=p_123%3A237204&rnid=91049095031&s=electronics&sprefix=headphone%2Caps%2C193&sr=1-53\n",
      "Fetching product 55 of 97: https://www.amazon.in//Sony-Pulse-EliteTM-Wireless-Headset/dp/B0D4DZHK2H/ref=sr_1_54_mod_primary_new?crid=2LITCFDFEKL0P&dib=eyJ2IjoiMSJ9.nPJ2JYi6irUWfO8BjE2e2n0xtxRmRAcoaM7WYsDlNBd3486b96C5RqDU4XjWvneTqXrqYMVhT2T0OsNrK8lkT37h4haJtEwVpTyMQoHB1PGKVUYPGAaBAaRjHJBLdtr-5hf0IG2ajCr1oK0NQklUu6-YyQmENwzxy6VJ_MezxYk1etKY3LWZiq6eb3wl9TbRgXGrbTAnH0uGZMz660QkrQZ_T2kebqLkGMADn5cPF6-QXUjNCd_AzJk3TSTuajDWs791XypTghIpqOrwH77Jv-NWKits1HFb2tajIso84ME._6YN-Xhb6lo0k7cMomAY8lMR9rg07bbOVSQzh-SJfl8&dib_tag=se&keywords=headphones&qid=1733765309&refinements=p_123%3A237204&rnid=91049095031&s=electronics&sbo=RZvfv%2F%2FHxDF%2BO5021pAnSA%3D%3D&sprefix=headphone%2Caps%2C193&sr=1-54\n",
      "Fetching product 56 of 97: https://www.amazon.in//PlayStation-Wireless-PlayStation%C2%AE5-Noise-Cancellation-Charging/dp/B09KRYLYDH/ref=sr_1_55?crid=2LITCFDFEKL0P&dib=eyJ2IjoiMSJ9.nPJ2JYi6irUWfO8BjE2e2n0xtxRmRAcoaM7WYsDlNBd3486b96C5RqDU4XjWvneTqXrqYMVhT2T0OsNrK8lkT37h4haJtEwVpTyMQoHB1PGKVUYPGAaBAaRjHJBLdtr-5hf0IG2ajCr1oK0NQklUu6-YyQmENwzxy6VJ_MezxYk1etKY3LWZiq6eb3wl9TbRgXGrbTAnH0uGZMz660QkrQZ_T2kebqLkGMADn5cPF6-QXUjNCd_AzJk3TSTuajDWs791XypTghIpqOrwH77Jv-NWKits1HFb2tajIso84ME._6YN-Xhb6lo0k7cMomAY8lMR9rg07bbOVSQzh-SJfl8&dib_tag=se&keywords=headphones&qid=1733765309&refinements=p_123%3A237204&rnid=91049095031&s=electronics&sprefix=headphone%2Caps%2C193&sr=1-55\n",
      "Fetching product 57 of 97: https://www.amazon.in//Sony-Wf-1000Xm5-Cancelling-Wireless-Bluetooth/dp/B0DGTYFC93/ref=sr_1_56?crid=2LITCFDFEKL0P&dib=eyJ2IjoiMSJ9.nPJ2JYi6irUWfO8BjE2e2n0xtxRmRAcoaM7WYsDlNBd3486b96C5RqDU4XjWvneTqXrqYMVhT2T0OsNrK8lkT37h4haJtEwVpTyMQoHB1PGKVUYPGAaBAaRjHJBLdtr-5hf0IG2ajCr1oK0NQklUu6-YyQmENwzxy6VJ_MezxYk1etKY3LWZiq6eb3wl9TbRgXGrbTAnH0uGZMz660QkrQZ_T2kebqLkGMADn5cPF6-QXUjNCd_AzJk3TSTuajDWs791XypTghIpqOrwH77Jv-NWKits1HFb2tajIso84ME._6YN-Xhb6lo0k7cMomAY8lMR9rg07bbOVSQzh-SJfl8&dib_tag=se&keywords=headphones&qid=1733765309&refinements=p_123%3A237204&rnid=91049095031&s=electronics&sprefix=headphone%2Caps%2C193&sr=1-56\n",
      "Fetching product 58 of 97: https://www.amazon.in//Sony-Extra-MDR-XB650BT-Wireless-Headphones/dp/B07Y2588WP/ref=sr_1_57?crid=2LITCFDFEKL0P&dib=eyJ2IjoiMSJ9.nPJ2JYi6irUWfO8BjE2e2n0xtxRmRAcoaM7WYsDlNBd3486b96C5RqDU4XjWvneTqXrqYMVhT2T0OsNrK8lkT37h4haJtEwVpTyMQoHB1PGKVUYPGAaBAaRjHJBLdtr-5hf0IG2ajCr1oK0NQklUu6-YyQmENwzxy6VJ_MezxYk1etKY3LWZiq6eb3wl9TbRgXGrbTAnH0uGZMz660QkrQZ_T2kebqLkGMADn5cPF6-QXUjNCd_AzJk3TSTuajDWs791XypTghIpqOrwH77Jv-NWKits1HFb2tajIso84ME._6YN-Xhb6lo0k7cMomAY8lMR9rg07bbOVSQzh-SJfl8&dib_tag=se&keywords=headphones&qid=1733765309&refinements=p_123%3A237204&rnid=91049095031&s=electronics&sprefix=headphone%2Caps%2C193&sr=1-57\n",
      "Fetching product 59 of 97: https://www.amazon.in//Sony-WH-XB700-Wireless-Extra-Headphones/dp/B07QC2YJWG/ref=sr_1_58?crid=2LITCFDFEKL0P&dib=eyJ2IjoiMSJ9.nPJ2JYi6irUWfO8BjE2e2n0xtxRmRAcoaM7WYsDlNBd3486b96C5RqDU4XjWvneTqXrqYMVhT2T0OsNrK8lkT37h4haJtEwVpTyMQoHB1PGKVUYPGAaBAaRjHJBLdtr-5hf0IG2ajCr1oK0NQklUu6-YyQmENwzxy6VJ_MezxYk1etKY3LWZiq6eb3wl9TbRgXGrbTAnH0uGZMz660QkrQZ_T2kebqLkGMADn5cPF6-QXUjNCd_AzJk3TSTuajDWs791XypTghIpqOrwH77Jv-NWKits1HFb2tajIso84ME._6YN-Xhb6lo0k7cMomAY8lMR9rg07bbOVSQzh-SJfl8&dib_tag=se&keywords=headphones&qid=1733765309&refinements=p_123%3A237204&rnid=91049095031&s=electronics&sprefix=headphone%2Caps%2C193&sr=1-58\n",
      "Fetching product 60 of 97: https://www.amazon.in//Sony-Cancellation-Multipoint-Connection-Support-White/dp/B0BYPGGDZX/ref=sr_1_59?crid=2LITCFDFEKL0P&dib=eyJ2IjoiMSJ9.nPJ2JYi6irUWfO8BjE2e2n0xtxRmRAcoaM7WYsDlNBd3486b96C5RqDU4XjWvneTqXrqYMVhT2T0OsNrK8lkT37h4haJtEwVpTyMQoHB1PGKVUYPGAaBAaRjHJBLdtr-5hf0IG2ajCr1oK0NQklUu6-YyQmENwzxy6VJ_MezxYk1etKY3LWZiq6eb3wl9TbRgXGrbTAnH0uGZMz660QkrQZ_T2kebqLkGMADn5cPF6-QXUjNCd_AzJk3TSTuajDWs791XypTghIpqOrwH77Jv-NWKits1HFb2tajIso84ME._6YN-Xhb6lo0k7cMomAY8lMR9rg07bbOVSQzh-SJfl8&dib_tag=se&keywords=headphones&qid=1733765309&refinements=p_123%3A237204&rnid=91049095031&s=electronics&sprefix=headphone%2Caps%2C193&sr=1-59\n",
      "Fetching product 61 of 97: https://www.amazon.in//Sony-LinkBuds-Bluetooth-Open-Ring-Adaptive/dp/B0DGVQXZPZ/ref=sr_1_60?crid=2LITCFDFEKL0P&dib=eyJ2IjoiMSJ9.nPJ2JYi6irUWfO8BjE2e2n0xtxRmRAcoaM7WYsDlNBd3486b96C5RqDU4XjWvneTqXrqYMVhT2T0OsNrK8lkT37h4haJtEwVpTyMQoHB1PGKVUYPGAaBAaRjHJBLdtr-5hf0IG2ajCr1oK0NQklUu6-YyQmENwzxy6VJ_MezxYk1etKY3LWZiq6eb3wl9TbRgXGrbTAnH0uGZMz660QkrQZ_T2kebqLkGMADn5cPF6-QXUjNCd_AzJk3TSTuajDWs791XypTghIpqOrwH77Jv-NWKits1HFb2tajIso84ME._6YN-Xhb6lo0k7cMomAY8lMR9rg07bbOVSQzh-SJfl8&dib_tag=se&keywords=headphones&qid=1733765309&refinements=p_123%3A237204&rnid=91049095031&s=electronics&sprefix=headphone%2Caps%2C193&sr=1-60\n",
      "Fetching product 62 of 97: https://www.amazon.in//Sony-Cancellation-Multipoint-Ultralight-IPX4-Black/dp/B09YL76VSR/ref=sr_1_61?crid=2LITCFDFEKL0P&dib=eyJ2IjoiMSJ9.nPJ2JYi6irUWfO8BjE2e2n0xtxRmRAcoaM7WYsDlNBd3486b96C5RqDU4XjWvneTqXrqYMVhT2T0OsNrK8lkT37h4haJtEwVpTyMQoHB1PGKVUYPGAaBAaRjHJBLdtr-5hf0IG2ajCr1oK0NQklUu6-YyQmENwzxy6VJ_MezxYk1etKY3LWZiq6eb3wl9TbRgXGrbTAnH0uGZMz660QkrQZ_T2kebqLkGMADn5cPF6-QXUjNCd_AzJk3TSTuajDWs791XypTghIpqOrwH77Jv-NWKits1HFb2tajIso84ME._6YN-Xhb6lo0k7cMomAY8lMR9rg07bbOVSQzh-SJfl8&dib_tag=se&keywords=headphones&qid=1733765309&refinements=p_123%3A237204&rnid=91049095031&s=electronics&sprefix=headphone%2Caps%2C193&sr=1-61\n",
      "Fetching product 63 of 97: https://www.amazon.in//Refurbished-Sony-WH-1000XM5-Cancelling-Connectivity/dp/B0C3R3XF72/ref=sr_1_62?crid=2LITCFDFEKL0P&dib=eyJ2IjoiMSJ9.nPJ2JYi6irUWfO8BjE2e2n0xtxRmRAcoaM7WYsDlNBd3486b96C5RqDU4XjWvneTqXrqYMVhT2T0OsNrK8lkT37h4haJtEwVpTyMQoHB1PGKVUYPGAaBAaRjHJBLdtr-5hf0IG2ajCr1oK0NQklUu6-YyQmENwzxy6VJ_MezxYk1etKY3LWZiq6eb3wl9TbRgXGrbTAnH0uGZMz660QkrQZ_T2kebqLkGMADn5cPF6-QXUjNCd_AzJk3TSTuajDWs791XypTghIpqOrwH77Jv-NWKits1HFb2tajIso84ME._6YN-Xhb6lo0k7cMomAY8lMR9rg07bbOVSQzh-SJfl8&dib_tag=se&keywords=headphones&qid=1733765309&refinements=p_123%3A237204&rnid=91049095031&s=electronics&sprefix=headphone%2Caps%2C193&sr=1-62\n",
      "Fetching product 64 of 97: https://www.amazon.in//Sony-WH-G900N-Cancelling-Headphones-Compatible/dp/B0CQ55LZ9R/ref=sr_1_63?crid=2LITCFDFEKL0P&dib=eyJ2IjoiMSJ9.nPJ2JYi6irUWfO8BjE2e2n0xtxRmRAcoaM7WYsDlNBd3486b96C5RqDU4XjWvneTqXrqYMVhT2T0OsNrK8lkT37h4haJtEwVpTyMQoHB1PGKVUYPGAaBAaRjHJBLdtr-5hf0IG2ajCr1oK0NQklUu6-YyQmENwzxy6VJ_MezxYk1etKY3LWZiq6eb3wl9TbRgXGrbTAnH0uGZMz660QkrQZ_T2kebqLkGMADn5cPF6-QXUjNCd_AzJk3TSTuajDWs791XypTghIpqOrwH77Jv-NWKits1HFb2tajIso84ME._6YN-Xhb6lo0k7cMomAY8lMR9rg07bbOVSQzh-SJfl8&dib_tag=se&keywords=headphones&qid=1733765309&refinements=p_123%3A237204&rnid=91049095031&s=electronics&sprefix=headphone%2Caps%2C193&sr=1-63\n",
      "Fetching product 65 of 97: https://www.amazon.in//Sony-CFI-ZWE1F-ExploreTM-wireless-earbuds/dp/B0CZY25SG1/ref=sr_1_64?crid=2LITCFDFEKL0P&dib=eyJ2IjoiMSJ9.nPJ2JYi6irUWfO8BjE2e2n0xtxRmRAcoaM7WYsDlNBd3486b96C5RqDU4XjWvneTqXrqYMVhT2T0OsNrK8lkT37h4haJtEwVpTyMQoHB1PGKVUYPGAaBAaRjHJBLdtr-5hf0IG2ajCr1oK0NQklUu6-YyQmENwzxy6VJ_MezxYk1etKY3LWZiq6eb3wl9TbRgXGrbTAnH0uGZMz660QkrQZ_T2kebqLkGMADn5cPF6-QXUjNCd_AzJk3TSTuajDWs791XypTghIpqOrwH77Jv-NWKits1HFb2tajIso84ME._6YN-Xhb6lo0k7cMomAY8lMR9rg07bbOVSQzh-SJfl8&dib_tag=se&keywords=headphones&qid=1733765309&refinements=p_123%3A237204&rnid=91049095031&s=electronics&sprefix=headphone%2Caps%2C193&sr=1-64\n",
      "Fetching product 66 of 97: https://www.amazon.in//Sony-Bluetooth-Wireless-Discount-transactions/dp/B09CGDZHC5/ref=sr_1_65?crid=2LITCFDFEKL0P&dib=eyJ2IjoiMSJ9.nPJ2JYi6irUWfO8BjE2e2n0xtxRmRAcoaM7WYsDlNBd3486b96C5RqDU4XjWvneTqXrqYMVhT2T0OsNrK8lkT37h4haJtEwVpTyMQoHB1PGKVUYPGAaBAaRjHJBLdtr-5hf0IG2ajCr1oK0NQklUu6-YyQmENwzxy6VJ_MezxYk1etKY3LWZiq6eb3wl9TbRgXGrbTAnH0uGZMz660QkrQZ_T2kebqLkGMADn5cPF6-QXUjNCd_AzJk3TSTuajDWs791XypTghIpqOrwH77Jv-NWKits1HFb2tajIso84ME._6YN-Xhb6lo0k7cMomAY8lMR9rg07bbOVSQzh-SJfl8&dib_tag=se&keywords=headphones&qid=1733765309&refinements=p_123%3A237204&rnid=91049095031&s=electronics&sprefix=headphone%2Caps%2C193&sr=1-65\n",
      "Fetching product 67 of 97: https://www.amazon.in//Sony-Wireless-Bidirectional-Microphone-Black-Over/dp/B0CNPGZXKJ/ref=sr_1_66?crid=2LITCFDFEKL0P&dib=eyJ2IjoiMSJ9.nPJ2JYi6irUWfO8BjE2e2n0xtxRmRAcoaM7WYsDlNBd3486b96C5RqDU4XjWvneTqXrqYMVhT2T0OsNrK8lkT37h4haJtEwVpTyMQoHB1PGKVUYPGAaBAaRjHJBLdtr-5hf0IG2ajCr1oK0NQklUu6-YyQmENwzxy6VJ_MezxYk1etKY3LWZiq6eb3wl9TbRgXGrbTAnH0uGZMz660QkrQZ_T2kebqLkGMADn5cPF6-QXUjNCd_AzJk3TSTuajDWs791XypTghIpqOrwH77Jv-NWKits1HFb2tajIso84ME._6YN-Xhb6lo0k7cMomAY8lMR9rg07bbOVSQzh-SJfl8&dib_tag=se&keywords=headphones&qid=1733765309&refinements=p_123%3A237204&rnid=91049095031&s=electronics&sprefix=headphone%2Caps%2C193&sr=1-66\n",
      "Fetching product 68 of 97: https://www.amazon.in//Refurbished-Sony-MDR-G300-Over-Ear-Headphones/dp/B0B6WQWWZ7/ref=sr_1_67?crid=2LITCFDFEKL0P&dib=eyJ2IjoiMSJ9.nPJ2JYi6irUWfO8BjE2e2n0xtxRmRAcoaM7WYsDlNBd3486b96C5RqDU4XjWvneTqXrqYMVhT2T0OsNrK8lkT37h4haJtEwVpTyMQoHB1PGKVUYPGAaBAaRjHJBLdtr-5hf0IG2ajCr1oK0NQklUu6-YyQmENwzxy6VJ_MezxYk1etKY3LWZiq6eb3wl9TbRgXGrbTAnH0uGZMz660QkrQZ_T2kebqLkGMADn5cPF6-QXUjNCd_AzJk3TSTuajDWs791XypTghIpqOrwH77Jv-NWKits1HFb2tajIso84ME._6YN-Xhb6lo0k7cMomAY8lMR9rg07bbOVSQzh-SJfl8&dib_tag=se&keywords=headphones&qid=1733765309&refinements=p_123%3A237204&rnid=91049095031&s=electronics&sprefix=headphone%2Caps%2C193&sr=1-67\n",
      "Fetching product 69 of 97: https://www.amazon.in//Sony-Cancellation-Multipoint-Ultralight-IPX4-White/dp/B09YL296PM/ref=sr_1_68?crid=2LITCFDFEKL0P&dib=eyJ2IjoiMSJ9.nPJ2JYi6irUWfO8BjE2e2n0xtxRmRAcoaM7WYsDlNBd3486b96C5RqDU4XjWvneTqXrqYMVhT2T0OsNrK8lkT37h4haJtEwVpTyMQoHB1PGKVUYPGAaBAaRjHJBLdtr-5hf0IG2ajCr1oK0NQklUu6-YyQmENwzxy6VJ_MezxYk1etKY3LWZiq6eb3wl9TbRgXGrbTAnH0uGZMz660QkrQZ_T2kebqLkGMADn5cPF6-QXUjNCd_AzJk3TSTuajDWs791XypTghIpqOrwH77Jv-NWKits1HFb2tajIso84ME._6YN-Xhb6lo0k7cMomAY8lMR9rg07bbOVSQzh-SJfl8&dib_tag=se&keywords=headphones&qid=1733765309&refinements=p_123%3A237204&rnid=91049095031&s=electronics&sprefix=headphone%2Caps%2C193&sr=1-68\n",
      "Fetching product 70 of 97: https://www.amazon.in//Sony-WH-1000XM5-Wireless-Headphones-Connectivity/dp/B0B2FCT81R/ref=sr_1_69?crid=2LITCFDFEKL0P&dib=eyJ2IjoiMSJ9.nPJ2JYi6irUWfO8BjE2e2n0xtxRmRAcoaM7WYsDlNBd3486b96C5RqDU4XjWvneTqXrqYMVhT2T0OsNrK8lkT37h4haJtEwVpTyMQoHB1PGKVUYPGAaBAaRjHJBLdtr-5hf0IG2ajCr1oK0NQklUu6-YyQmENwzxy6VJ_MezxYk1etKY3LWZiq6eb3wl9TbRgXGrbTAnH0uGZMz660QkrQZ_T2kebqLkGMADn5cPF6-QXUjNCd_AzJk3TSTuajDWs791XypTghIpqOrwH77Jv-NWKits1HFb2tajIso84ME._6YN-Xhb6lo0k7cMomAY8lMR9rg07bbOVSQzh-SJfl8&dib_tag=se&keywords=headphones&qid=1733765309&refinements=p_123%3A237204&rnid=91049095031&s=electronics&sprefix=headphone%2Caps%2C193&sr=1-69\n",
      "Fetching product 71 of 97: https://www.amazon.in//Sony-WF-LS900N-Cancellation-Multipoint-ultralight/dp/B0C37HLFGL/ref=sr_1_70?crid=2LITCFDFEKL0P&dib=eyJ2IjoiMSJ9.nPJ2JYi6irUWfO8BjE2e2n0xtxRmRAcoaM7WYsDlNBd3486b96C5RqDU4XjWvneTqXrqYMVhT2T0OsNrK8lkT37h4haJtEwVpTyMQoHB1PGKVUYPGAaBAaRjHJBLdtr-5hf0IG2ajCr1oK0NQklUu6-YyQmENwzxy6VJ_MezxYk1etKY3LWZiq6eb3wl9TbRgXGrbTAnH0uGZMz660QkrQZ_T2kebqLkGMADn5cPF6-QXUjNCd_AzJk3TSTuajDWs791XypTghIpqOrwH77Jv-NWKits1HFb2tajIso84ME._6YN-Xhb6lo0k7cMomAY8lMR9rg07bbOVSQzh-SJfl8&dib_tag=se&keywords=headphones&qid=1733765309&refinements=p_123%3A237204&rnid=91049095031&s=electronics&sprefix=headphone%2Caps%2C193&sr=1-70\n",
      "Fetching product 72 of 97: https://www.amazon.in//Sony-WF-LS900N-Cancellation-Multipoint-Ultralight/dp/B0BLYXQ512/ref=sr_1_71?crid=2LITCFDFEKL0P&dib=eyJ2IjoiMSJ9.nPJ2JYi6irUWfO8BjE2e2n0xtxRmRAcoaM7WYsDlNBd3486b96C5RqDU4XjWvneTqXrqYMVhT2T0OsNrK8lkT37h4haJtEwVpTyMQoHB1PGKVUYPGAaBAaRjHJBLdtr-5hf0IG2ajCr1oK0NQklUu6-YyQmENwzxy6VJ_MezxYk1etKY3LWZiq6eb3wl9TbRgXGrbTAnH0uGZMz660QkrQZ_T2kebqLkGMADn5cPF6-QXUjNCd_AzJk3TSTuajDWs791XypTghIpqOrwH77Jv-NWKits1HFb2tajIso84ME._6YN-Xhb6lo0k7cMomAY8lMR9rg07bbOVSQzh-SJfl8&dib_tag=se&keywords=headphones&qid=1733765309&refinements=p_123%3A237204&rnid=91049095031&s=electronics&sprefix=headphone%2Caps%2C193&sr=1-71\n",
      "Fetching product 73 of 97: https://www.amazon.in//Refurbished-Sony-Cancellation-Multipoint-ultralight/dp/B0C9J4HYRB/ref=sr_1_72?crid=2LITCFDFEKL0P&dib=eyJ2IjoiMSJ9.nPJ2JYi6irUWfO8BjE2e2n0xtxRmRAcoaM7WYsDlNBd3486b96C5RqDU4XjWvneTqXrqYMVhT2T0OsNrK8lkT37h4haJtEwVpTyMQoHB1PGKVUYPGAaBAaRjHJBLdtr-5hf0IG2ajCr1oK0NQklUu6-YyQmENwzxy6VJ_MezxYk1etKY3LWZiq6eb3wl9TbRgXGrbTAnH0uGZMz660QkrQZ_T2kebqLkGMADn5cPF6-QXUjNCd_AzJk3TSTuajDWs791XypTghIpqOrwH77Jv-NWKits1HFb2tajIso84ME._6YN-Xhb6lo0k7cMomAY8lMR9rg07bbOVSQzh-SJfl8&dib_tag=se&keywords=headphones&qid=1733765309&refinements=p_123%3A237204&rnid=91049095031&s=electronics&sprefix=headphone%2Caps%2C193&sr=1-72\n",
      "Fetching product 74 of 97: https://www.amazon.in//Refurbished-Sony-Cancellation-Multipoint-ultralight/dp/B0C9J4HYRB/ref=sr_1_73?crid=2LITCFDFEKL0P&dib=eyJ2IjoiMSJ9.HtSNKEjUTAvOivxa5sD3bn7GqdysVr51A4HLuhIjA-dcCy9J35pqtfABxd0G4Gbbsg7erT8ujN05dI-sOf4AHyQjb21ZsQKbfbaHvZSxjwLSWTOX9TJzuQr6h9oWiaizMKqd_1r6UG4BHdQq7L7qKyDATgwGJ5q1_o7khvK0FGFI91_9czP88xzugN4G0uUXY-1WwrnVhmMoCkdsMjvGnqlbZK2SqfOKvSyfaVns6pnk5v6SFx0k3_LEi7OWW0o95AK9sujhVmbaorPoaSgXGL4JoQnHnoWpq5hnj9E8A98.ikqDxbDqd-Vlzs-IBm_JxeedGhKt8tLYHuZTyGeEZ44&dib_tag=se&keywords=headphones&qid=1733765312&refinements=p_123%3A237204&rnid=91049095031&s=electronics&sprefix=headphone%2Caps%2C193&sr=1-73\n",
      "Fetching product 75 of 97: https://www.amazon.in//Sony-WF-1000XM5-Cancelling-Headphones-Multi-Point/dp/B0C345M3T7/ref=sr_1_74?crid=2LITCFDFEKL0P&dib=eyJ2IjoiMSJ9.HtSNKEjUTAvOivxa5sD3bn7GqdysVr51A4HLuhIjA-dcCy9J35pqtfABxd0G4Gbbsg7erT8ujN05dI-sOf4AHyQjb21ZsQKbfbaHvZSxjwLSWTOX9TJzuQr6h9oWiaizMKqd_1r6UG4BHdQq7L7qKyDATgwGJ5q1_o7khvK0FGFI91_9czP88xzugN4G0uUXY-1WwrnVhmMoCkdsMjvGnqlbZK2SqfOKvSyfaVns6pnk5v6SFx0k3_LEi7OWW0o95AK9sujhVmbaorPoaSgXGL4JoQnHnoWpq5hnj9E8A98.ikqDxbDqd-Vlzs-IBm_JxeedGhKt8tLYHuZTyGeEZ44&dib_tag=se&keywords=headphones&qid=1733765312&refinements=p_123%3A237204&rnid=91049095031&s=electronics&sprefix=headphone%2Caps%2C193&sr=1-74\n",
      "Fetching product 76 of 97: https://www.amazon.in//Sony-WF-LS900N-Wireless-Cancelling-Ultra-Light/dp/B0BTDJYQWM/ref=sr_1_75?crid=2LITCFDFEKL0P&dib=eyJ2IjoiMSJ9.HtSNKEjUTAvOivxa5sD3bn7GqdysVr51A4HLuhIjA-dcCy9J35pqtfABxd0G4Gbbsg7erT8ujN05dI-sOf4AHyQjb21ZsQKbfbaHvZSxjwLSWTOX9TJzuQr6h9oWiaizMKqd_1r6UG4BHdQq7L7qKyDATgwGJ5q1_o7khvK0FGFI91_9czP88xzugN4G0uUXY-1WwrnVhmMoCkdsMjvGnqlbZK2SqfOKvSyfaVns6pnk5v6SFx0k3_LEi7OWW0o95AK9sujhVmbaorPoaSgXGL4JoQnHnoWpq5hnj9E8A98.ikqDxbDqd-Vlzs-IBm_JxeedGhKt8tLYHuZTyGeEZ44&dib_tag=se&keywords=headphones&qid=1733765312&refinements=p_123%3A237204&rnid=91049095031&s=electronics&sprefix=headphone%2Caps%2C193&sr=1-75\n",
      "Fetching product 77 of 97: https://www.amazon.in//Sony-INZONE-Wireless-Cancelling-Over-Ear-Headphones/dp/B0B78F35GC/ref=sr_1_76?crid=2LITCFDFEKL0P&dib=eyJ2IjoiMSJ9.HtSNKEjUTAvOivxa5sD3bn7GqdysVr51A4HLuhIjA-dcCy9J35pqtfABxd0G4Gbbsg7erT8ujN05dI-sOf4AHyQjb21ZsQKbfbaHvZSxjwLSWTOX9TJzuQr6h9oWiaizMKqd_1r6UG4BHdQq7L7qKyDATgwGJ5q1_o7khvK0FGFI91_9czP88xzugN4G0uUXY-1WwrnVhmMoCkdsMjvGnqlbZK2SqfOKvSyfaVns6pnk5v6SFx0k3_LEi7OWW0o95AK9sujhVmbaorPoaSgXGL4JoQnHnoWpq5hnj9E8A98.ikqDxbDqd-Vlzs-IBm_JxeedGhKt8tLYHuZTyGeEZ44&dib_tag=se&keywords=headphones&qid=1733765312&refinements=p_123%3A237204&rnid=91049095031&s=electronics&sprefix=headphone%2Caps%2C193&sr=1-76\n",
      "Fetching product 78 of 97: https://www.amazon.in//Sony-WH-H910N-Cancelling-Bluetooth-Wireless/dp/B08BK3GF1G/ref=sr_1_77?crid=2LITCFDFEKL0P&dib=eyJ2IjoiMSJ9.HtSNKEjUTAvOivxa5sD3bn7GqdysVr51A4HLuhIjA-dcCy9J35pqtfABxd0G4Gbbsg7erT8ujN05dI-sOf4AHyQjb21ZsQKbfbaHvZSxjwLSWTOX9TJzuQr6h9oWiaizMKqd_1r6UG4BHdQq7L7qKyDATgwGJ5q1_o7khvK0FGFI91_9czP88xzugN4G0uUXY-1WwrnVhmMoCkdsMjvGnqlbZK2SqfOKvSyfaVns6pnk5v6SFx0k3_LEi7OWW0o95AK9sujhVmbaorPoaSgXGL4JoQnHnoWpq5hnj9E8A98.ikqDxbDqd-Vlzs-IBm_JxeedGhKt8tLYHuZTyGeEZ44&dib_tag=se&keywords=headphones&qid=1733765312&refinements=p_123%3A237204&rnid=91049095031&s=electronics&sprefix=headphone%2Caps%2C193&sr=1-77\n",
      "Fetching product 79 of 97: https://www.amazon.in//Sony-LinkBuds-Wireless-Bluetooth-Open-Ring/dp/B0BBFXDCZL/ref=sr_1_78?crid=2LITCFDFEKL0P&dib=eyJ2IjoiMSJ9.HtSNKEjUTAvOivxa5sD3bn7GqdysVr51A4HLuhIjA-dcCy9J35pqtfABxd0G4Gbbsg7erT8ujN05dI-sOf4AHyQjb21ZsQKbfbaHvZSxjwLSWTOX9TJzuQr6h9oWiaizMKqd_1r6UG4BHdQq7L7qKyDATgwGJ5q1_o7khvK0FGFI91_9czP88xzugN4G0uUXY-1WwrnVhmMoCkdsMjvGnqlbZK2SqfOKvSyfaVns6pnk5v6SFx0k3_LEi7OWW0o95AK9sujhVmbaorPoaSgXGL4JoQnHnoWpq5hnj9E8A98.ikqDxbDqd-Vlzs-IBm_JxeedGhKt8tLYHuZTyGeEZ44&dib_tag=se&keywords=headphones&qid=1733765312&refinements=p_123%3A237204&rnid=91049095031&s=electronics&sprefix=headphone%2Caps%2C193&sr=1-78\n",
      "Fetching product 80 of 97: https://www.amazon.in//Refurbished-Sony-WH-ULT900N-Comfortable-Cancellation/dp/B0D8NBT4ZM/ref=sr_1_79?crid=2LITCFDFEKL0P&dib=eyJ2IjoiMSJ9.HtSNKEjUTAvOivxa5sD3bn7GqdysVr51A4HLuhIjA-dcCy9J35pqtfABxd0G4Gbbsg7erT8ujN05dI-sOf4AHyQjb21ZsQKbfbaHvZSxjwLSWTOX9TJzuQr6h9oWiaizMKqd_1r6UG4BHdQq7L7qKyDATgwGJ5q1_o7khvK0FGFI91_9czP88xzugN4G0uUXY-1WwrnVhmMoCkdsMjvGnqlbZK2SqfOKvSyfaVns6pnk5v6SFx0k3_LEi7OWW0o95AK9sujhVmbaorPoaSgXGL4JoQnHnoWpq5hnj9E8A98.ikqDxbDqd-Vlzs-IBm_JxeedGhKt8tLYHuZTyGeEZ44&dib_tag=se&keywords=headphones&qid=1733765312&refinements=p_123%3A237204&rnid=91049095031&s=electronics&sprefix=headphone%2Caps%2C193&sr=1-79\n",
      "Fetching product 81 of 97: https://www.amazon.in//Refurbished-Sony-Bidirectional-Microphone-White-Over/dp/B0D936W6PN/ref=sr_1_80?crid=2LITCFDFEKL0P&dib=eyJ2IjoiMSJ9.HtSNKEjUTAvOivxa5sD3bn7GqdysVr51A4HLuhIjA-dcCy9J35pqtfABxd0G4Gbbsg7erT8ujN05dI-sOf4AHyQjb21ZsQKbfbaHvZSxjwLSWTOX9TJzuQr6h9oWiaizMKqd_1r6UG4BHdQq7L7qKyDATgwGJ5q1_o7khvK0FGFI91_9czP88xzugN4G0uUXY-1WwrnVhmMoCkdsMjvGnqlbZK2SqfOKvSyfaVns6pnk5v6SFx0k3_LEi7OWW0o95AK9sujhVmbaorPoaSgXGL4JoQnHnoWpq5hnj9E8A98.ikqDxbDqd-Vlzs-IBm_JxeedGhKt8tLYHuZTyGeEZ44&dib_tag=se&keywords=headphones&qid=1733765312&refinements=p_123%3A237204&rnid=91049095031&s=electronics&sprefix=headphone%2Caps%2C193&sr=1-80\n",
      "Fetching product 82 of 97: https://www.amazon.in//Sony-LinkBuds-Bluetooth-Open-Ring-Adaptive/dp/B0DGVH7FJV/ref=sr_1_81?crid=2LITCFDFEKL0P&dib=eyJ2IjoiMSJ9.HtSNKEjUTAvOivxa5sD3bn7GqdysVr51A4HLuhIjA-dcCy9J35pqtfABxd0G4Gbbsg7erT8ujN05dI-sOf4AHyQjb21ZsQKbfbaHvZSxjwLSWTOX9TJzuQr6h9oWiaizMKqd_1r6UG4BHdQq7L7qKyDATgwGJ5q1_o7khvK0FGFI91_9czP88xzugN4G0uUXY-1WwrnVhmMoCkdsMjvGnqlbZK2SqfOKvSyfaVns6pnk5v6SFx0k3_LEi7OWW0o95AK9sujhVmbaorPoaSgXGL4JoQnHnoWpq5hnj9E8A98.ikqDxbDqd-Vlzs-IBm_JxeedGhKt8tLYHuZTyGeEZ44&dib_tag=se&keywords=headphones&qid=1733765312&refinements=p_123%3A237204&rnid=91049095031&s=electronics&sprefix=headphone%2Caps%2C193&sr=1-81\n",
      "Fetching product 83 of 97: https://www.amazon.in//Refurbished-Sony-PlayStation-Headphone-noise-cancellation/dp/B0CS6PCJX9/ref=sr_1_82?crid=2LITCFDFEKL0P&dib=eyJ2IjoiMSJ9.HtSNKEjUTAvOivxa5sD3bn7GqdysVr51A4HLuhIjA-dcCy9J35pqtfABxd0G4Gbbsg7erT8ujN05dI-sOf4AHyQjb21ZsQKbfbaHvZSxjwLSWTOX9TJzuQr6h9oWiaizMKqd_1r6UG4BHdQq7L7qKyDATgwGJ5q1_o7khvK0FGFI91_9czP88xzugN4G0uUXY-1WwrnVhmMoCkdsMjvGnqlbZK2SqfOKvSyfaVns6pnk5v6SFx0k3_LEi7OWW0o95AK9sujhVmbaorPoaSgXGL4JoQnHnoWpq5hnj9E8A98.ikqDxbDqd-Vlzs-IBm_JxeedGhKt8tLYHuZTyGeEZ44&dib_tag=se&keywords=headphones&qid=1733765312&refinements=p_123%3A237204&rnid=91049095031&s=electronics&sprefix=headphone%2Caps%2C193&sr=1-82\n",
      "Fetching product 84 of 97: https://www.amazon.in//Renewed-Sony-WF-LS900N-Wireless-Cancelling/dp/B0B2RH11HT/ref=sr_1_83?crid=2LITCFDFEKL0P&dib=eyJ2IjoiMSJ9.HtSNKEjUTAvOivxa5sD3bn7GqdysVr51A4HLuhIjA-dcCy9J35pqtfABxd0G4Gbbsg7erT8ujN05dI-sOf4AHyQjb21ZsQKbfbaHvZSxjwLSWTOX9TJzuQr6h9oWiaizMKqd_1r6UG4BHdQq7L7qKyDATgwGJ5q1_o7khvK0FGFI91_9czP88xzugN4G0uUXY-1WwrnVhmMoCkdsMjvGnqlbZK2SqfOKvSyfaVns6pnk5v6SFx0k3_LEi7OWW0o95AK9sujhVmbaorPoaSgXGL4JoQnHnoWpq5hnj9E8A98.ikqDxbDqd-Vlzs-IBm_JxeedGhKt8tLYHuZTyGeEZ44&dib_tag=se&keywords=headphones&qid=1733765312&refinements=p_123%3A237204&rnid=91049095031&s=electronics&sprefix=headphone%2Caps%2C193&sr=1-83\n",
      "Fetching product 85 of 97: https://www.amazon.in//Refurbished-Sony-Bidirectional-Microphone-WH-G500/dp/B0CT8GK3PX/ref=sr_1_84?crid=2LITCFDFEKL0P&dib=eyJ2IjoiMSJ9.HtSNKEjUTAvOivxa5sD3bn7GqdysVr51A4HLuhIjA-dcCy9J35pqtfABxd0G4Gbbsg7erT8ujN05dI-sOf4AHyQjb21ZsQKbfbaHvZSxjwLSWTOX9TJzuQr6h9oWiaizMKqd_1r6UG4BHdQq7L7qKyDATgwGJ5q1_o7khvK0FGFI91_9czP88xzugN4G0uUXY-1WwrnVhmMoCkdsMjvGnqlbZK2SqfOKvSyfaVns6pnk5v6SFx0k3_LEi7OWW0o95AK9sujhVmbaorPoaSgXGL4JoQnHnoWpq5hnj9E8A98.ikqDxbDqd-Vlzs-IBm_JxeedGhKt8tLYHuZTyGeEZ44&dib_tag=se&keywords=headphones&qid=1733765312&refinements=p_123%3A237204&rnid=91049095031&s=electronics&sprefix=headphone%2Caps%2C193&sr=1-84\n",
      "Fetching product 86 of 97: https://www.amazon.in//Sony-Lightweight-Super-Compact-Extra-Durable-Calling-Blue/dp/B0C29CMM4R/ref=sr_1_85?crid=2LITCFDFEKL0P&dib=eyJ2IjoiMSJ9.HtSNKEjUTAvOivxa5sD3bn7GqdysVr51A4HLuhIjA-dcCy9J35pqtfABxd0G4Gbbsg7erT8ujN05dI-sOf4AHyQjb21ZsQKbfbaHvZSxjwLSWTOX9TJzuQr6h9oWiaizMKqd_1r6UG4BHdQq7L7qKyDATgwGJ5q1_o7khvK0FGFI91_9czP88xzugN4G0uUXY-1WwrnVhmMoCkdsMjvGnqlbZK2SqfOKvSyfaVns6pnk5v6SFx0k3_LEi7OWW0o95AK9sujhVmbaorPoaSgXGL4JoQnHnoWpq5hnj9E8A98.ikqDxbDqd-Vlzs-IBm_JxeedGhKt8tLYHuZTyGeEZ44&dib_tag=se&keywords=headphones&qid=1733765312&refinements=p_123%3A237204&rnid=91049095031&s=electronics&sprefix=headphone%2Caps%2C193&sr=1-85\n",
      "Fetching product 87 of 97: https://www.amazon.in//Sony-Wireless-Bluetooth-MDR-EX155AP-Headphones/dp/B0C592NDSP/ref=sr_1_86?crid=2LITCFDFEKL0P&dib=eyJ2IjoiMSJ9.HtSNKEjUTAvOivxa5sD3bn7GqdysVr51A4HLuhIjA-dcCy9J35pqtfABxd0G4Gbbsg7erT8ujN05dI-sOf4AHyQjb21ZsQKbfbaHvZSxjwLSWTOX9TJzuQr6h9oWiaizMKqd_1r6UG4BHdQq7L7qKyDATgwGJ5q1_o7khvK0FGFI91_9czP88xzugN4G0uUXY-1WwrnVhmMoCkdsMjvGnqlbZK2SqfOKvSyfaVns6pnk5v6SFx0k3_LEi7OWW0o95AK9sujhVmbaorPoaSgXGL4JoQnHnoWpq5hnj9E8A98.ikqDxbDqd-Vlzs-IBm_JxeedGhKt8tLYHuZTyGeEZ44&dib_tag=se&keywords=headphones&qid=1733765312&refinements=p_123%3A237204&rnid=91049095031&s=electronics&sprefix=headphone%2Caps%2C193&sr=1-86\n",
      "Fetching product 88 of 97: https://www.amazon.in//Sony-WH-1000XM4-Cancelling-Headphones-Bluetooth/dp/B09C6N38VR/ref=sr_1_87?crid=2LITCFDFEKL0P&dib=eyJ2IjoiMSJ9.HtSNKEjUTAvOivxa5sD3bn7GqdysVr51A4HLuhIjA-dcCy9J35pqtfABxd0G4Gbbsg7erT8ujN05dI-sOf4AHyQjb21ZsQKbfbaHvZSxjwLSWTOX9TJzuQr6h9oWiaizMKqd_1r6UG4BHdQq7L7qKyDATgwGJ5q1_o7khvK0FGFI91_9czP88xzugN4G0uUXY-1WwrnVhmMoCkdsMjvGnqlbZK2SqfOKvSyfaVns6pnk5v6SFx0k3_LEi7OWW0o95AK9sujhVmbaorPoaSgXGL4JoQnHnoWpq5hnj9E8A98.ikqDxbDqd-Vlzs-IBm_JxeedGhKt8tLYHuZTyGeEZ44&dib_tag=se&keywords=headphones&qid=1733765312&refinements=p_123%3A237204&rnid=91049095031&s=electronics&sprefix=headphone%2Caps%2C193&sr=1-87\n",
      "Fetching product 89 of 97: https://www.amazon.in//Refurbished-Sony-WF-G700N-Wireless-Cancelling/dp/B0CTML2MW2/ref=sr_1_88?crid=2LITCFDFEKL0P&dib=eyJ2IjoiMSJ9.HtSNKEjUTAvOivxa5sD3bn7GqdysVr51A4HLuhIjA-dcCy9J35pqtfABxd0G4Gbbsg7erT8ujN05dI-sOf4AHyQjb21ZsQKbfbaHvZSxjwLSWTOX9TJzuQr6h9oWiaizMKqd_1r6UG4BHdQq7L7qKyDATgwGJ5q1_o7khvK0FGFI91_9czP88xzugN4G0uUXY-1WwrnVhmMoCkdsMjvGnqlbZK2SqfOKvSyfaVns6pnk5v6SFx0k3_LEi7OWW0o95AK9sujhVmbaorPoaSgXGL4JoQnHnoWpq5hnj9E8A98.ikqDxbDqd-Vlzs-IBm_JxeedGhKt8tLYHuZTyGeEZ44&dib_tag=se&keywords=headphones&qid=1733765312&refinements=p_123%3A237204&rnid=91049095031&s=electronics&sprefix=headphone%2Caps%2C193&sr=1-88\n",
      "Fetching product 90 of 97: https://www.amazon.in//Sony-Wireless-Bluetooth-Personalized-WLA-NS7-Black/dp/B09GWD8WHX/ref=sr_1_89?crid=2LITCFDFEKL0P&dib=eyJ2IjoiMSJ9.HtSNKEjUTAvOivxa5sD3bn7GqdysVr51A4HLuhIjA-dcCy9J35pqtfABxd0G4Gbbsg7erT8ujN05dI-sOf4AHyQjb21ZsQKbfbaHvZSxjwLSWTOX9TJzuQr6h9oWiaizMKqd_1r6UG4BHdQq7L7qKyDATgwGJ5q1_o7khvK0FGFI91_9czP88xzugN4G0uUXY-1WwrnVhmMoCkdsMjvGnqlbZK2SqfOKvSyfaVns6pnk5v6SFx0k3_LEi7OWW0o95AK9sujhVmbaorPoaSgXGL4JoQnHnoWpq5hnj9E8A98.ikqDxbDqd-Vlzs-IBm_JxeedGhKt8tLYHuZTyGeEZ44&dib_tag=se&keywords=headphones&qid=1733765312&refinements=p_123%3A237204&rnid=91049095031&s=electronics&sprefix=headphone%2Caps%2C193&sr=1-89\n",
      "Fetching product 91 of 97: https://www.amazon.in//Sony-Lightweight-Super-Compact-Extra-Durable-Calling-Orange/dp/B0C29BL8BS/ref=sr_1_90?crid=2LITCFDFEKL0P&dib=eyJ2IjoiMSJ9.HtSNKEjUTAvOivxa5sD3bn7GqdysVr51A4HLuhIjA-dcCy9J35pqtfABxd0G4Gbbsg7erT8ujN05dI-sOf4AHyQjb21ZsQKbfbaHvZSxjwLSWTOX9TJzuQr6h9oWiaizMKqd_1r6UG4BHdQq7L7qKyDATgwGJ5q1_o7khvK0FGFI91_9czP88xzugN4G0uUXY-1WwrnVhmMoCkdsMjvGnqlbZK2SqfOKvSyfaVns6pnk5v6SFx0k3_LEi7OWW0o95AK9sujhVmbaorPoaSgXGL4JoQnHnoWpq5hnj9E8A98.ikqDxbDqd-Vlzs-IBm_JxeedGhKt8tLYHuZTyGeEZ44&dib_tag=se&keywords=headphones&qid=1733765312&refinements=p_123%3A237204&rnid=91049095031&s=electronics&sprefix=headphone%2Caps%2C193&sr=1-90\n",
      "Fetching product 92 of 97: https://www.amazon.in//Sony-WF-G700N-Wireless-Cancelling-Earbuds/dp/B0CR676KTX/ref=sr_1_91?crid=2LITCFDFEKL0P&dib=eyJ2IjoiMSJ9.HtSNKEjUTAvOivxa5sD3bn7GqdysVr51A4HLuhIjA-dcCy9J35pqtfABxd0G4Gbbsg7erT8ujN05dI-sOf4AHyQjb21ZsQKbfbaHvZSxjwLSWTOX9TJzuQr6h9oWiaizMKqd_1r6UG4BHdQq7L7qKyDATgwGJ5q1_o7khvK0FGFI91_9czP88xzugN4G0uUXY-1WwrnVhmMoCkdsMjvGnqlbZK2SqfOKvSyfaVns6pnk5v6SFx0k3_LEi7OWW0o95AK9sujhVmbaorPoaSgXGL4JoQnHnoWpq5hnj9E8A98.ikqDxbDqd-Vlzs-IBm_JxeedGhKt8tLYHuZTyGeEZ44&dib_tag=se&keywords=headphones&qid=1733765312&refinements=p_123%3A237204&rnid=91049095031&s=electronics&sprefix=headphone%2Caps%2C193&sr=1-91\n",
      "Fetching product 93 of 97: https://www.amazon.in//Sony-Bravia-inches-Google-KD-65X74L/dp/B0C1HCS2WZ/ref=sr_1_92?crid=2LITCFDFEKL0P&dib=eyJ2IjoiMSJ9.HtSNKEjUTAvOivxa5sD3bn7GqdysVr51A4HLuhIjA-dcCy9J35pqtfABxd0G4Gbbsg7erT8ujN05dI-sOf4AHyQjb21ZsQKbfbaHvZSxjwLSWTOX9TJzuQr6h9oWiaizMKqd_1r6UG4BHdQq7L7qKyDATgwGJ5q1_o7khvK0FGFI91_9czP88xzugN4G0uUXY-1WwrnVhmMoCkdsMjvGnqlbZK2SqfOKvSyfaVns6pnk5v6SFx0k3_LEi7OWW0o95AK9sujhVmbaorPoaSgXGL4JoQnHnoWpq5hnj9E8A98.ikqDxbDqd-Vlzs-IBm_JxeedGhKt8tLYHuZTyGeEZ44&dib_tag=se&keywords=headphones&qid=1733765312&refinements=p_123%3A237204&rnid=91049095031&s=electronics&sprefix=headphone%2Caps%2C193&sr=1-92\n",
      "Fetching product 94 of 97: https://www.amazon.in//Sony-Interchangeable-Lens-Mirrorless-Autofocus-Recording/dp/B0CJCFFLDP/ref=sr_1_93?crid=2LITCFDFEKL0P&dib=eyJ2IjoiMSJ9.HtSNKEjUTAvOivxa5sD3bn7GqdysVr51A4HLuhIjA-dcCy9J35pqtfABxd0G4Gbbsg7erT8ujN05dI-sOf4AHyQjb21ZsQKbfbaHvZSxjwLSWTOX9TJzuQr6h9oWiaizMKqd_1r6UG4BHdQq7L7qKyDATgwGJ5q1_o7khvK0FGFI91_9czP88xzugN4G0uUXY-1WwrnVhmMoCkdsMjvGnqlbZK2SqfOKvSyfaVns6pnk5v6SFx0k3_LEi7OWW0o95AK9sujhVmbaorPoaSgXGL4JoQnHnoWpq5hnj9E8A98.ikqDxbDqd-Vlzs-IBm_JxeedGhKt8tLYHuZTyGeEZ44&dib_tag=se&keywords=headphones&qid=1733765312&refinements=p_123%3A237204&rnid=91049095031&s=electronics&sprefix=headphone%2Caps%2C193&sr=1-93\n",
      "Fetching product 95 of 97: https://www.amazon.in//Sony-SRS-XV800-Bluetooth-Splashproof-Omnidirectional/dp/B0C29RGC8L/ref=sr_1_94?crid=2LITCFDFEKL0P&dib=eyJ2IjoiMSJ9.HtSNKEjUTAvOivxa5sD3bn7GqdysVr51A4HLuhIjA-dcCy9J35pqtfABxd0G4Gbbsg7erT8ujN05dI-sOf4AHyQjb21ZsQKbfbaHvZSxjwLSWTOX9TJzuQr6h9oWiaizMKqd_1r6UG4BHdQq7L7qKyDATgwGJ5q1_o7khvK0FGFI91_9czP88xzugN4G0uUXY-1WwrnVhmMoCkdsMjvGnqlbZK2SqfOKvSyfaVns6pnk5v6SFx0k3_LEi7OWW0o95AK9sujhVmbaorPoaSgXGL4JoQnHnoWpq5hnj9E8A98.ikqDxbDqd-Vlzs-IBm_JxeedGhKt8tLYHuZTyGeEZ44&dib_tag=se&keywords=headphones&qid=1733765312&refinements=p_123%3A237204&rnid=91049095031&s=electronics&sprefix=headphone%2Caps%2C193&sr=1-94\n",
      "Fetching product 96 of 97: https://www.amazon.in//Sony-Handycam-Recording-Wide-Angle-Vario-Sonnar/dp/B0BQ2SV1NJ/ref=sr_1_95?crid=2LITCFDFEKL0P&dib=eyJ2IjoiMSJ9.HtSNKEjUTAvOivxa5sD3bn7GqdysVr51A4HLuhIjA-dcCy9J35pqtfABxd0G4Gbbsg7erT8ujN05dI-sOf4AHyQjb21ZsQKbfbaHvZSxjwLSWTOX9TJzuQr6h9oWiaizMKqd_1r6UG4BHdQq7L7qKyDATgwGJ5q1_o7khvK0FGFI91_9czP88xzugN4G0uUXY-1WwrnVhmMoCkdsMjvGnqlbZK2SqfOKvSyfaVns6pnk5v6SFx0k3_LEi7OWW0o95AK9sujhVmbaorPoaSgXGL4JoQnHnoWpq5hnj9E8A98.ikqDxbDqd-Vlzs-IBm_JxeedGhKt8tLYHuZTyGeEZ44&dib_tag=se&keywords=headphones&qid=1733765312&refinements=p_123%3A237204&rnid=91049095031&s=electronics&sprefix=headphone%2Caps%2C193&sr=1-95\n",
      "Fetching product 97 of 97: https://www.amazon.in//Sony-HT-S20R-Soundbar-Bluetooth-Connectivity/dp/B084685MT1/ref=sr_1_96?crid=2LITCFDFEKL0P&dib=eyJ2IjoiMSJ9.HtSNKEjUTAvOivxa5sD3bn7GqdysVr51A4HLuhIjA-dcCy9J35pqtfABxd0G4Gbbsg7erT8ujN05dI-sOf4AHyQjb21ZsQKbfbaHvZSxjwLSWTOX9TJzuQr6h9oWiaizMKqd_1r6UG4BHdQq7L7qKyDATgwGJ5q1_o7khvK0FGFI91_9czP88xzugN4G0uUXY-1WwrnVhmMoCkdsMjvGnqlbZK2SqfOKvSyfaVns6pnk5v6SFx0k3_LEi7OWW0o95AK9sujhVmbaorPoaSgXGL4JoQnHnoWpq5hnj9E8A98.ikqDxbDqd-Vlzs-IBm_JxeedGhKt8tLYHuZTyGeEZ44&dib_tag=se&keywords=headphones&qid=1733765312&refinements=p_123%3A237204&rnid=91049095031&s=electronics&sprefix=headphone%2Caps%2C193&sr=1-96\n"
     ]
    }
   ],
   "source": [
    "all_products_data = fetch_all_products_details(all_product_links)"
   ]
  },
  {
   "cell_type": "markdown",
   "id": "a0894216-f15c-4aad-bdfa-d07c504fd3df",
   "metadata": {},
   "source": [
    "#### Converting the product data to a dataframe for better view and understanding"
   ]
  },
  {
   "cell_type": "code",
   "execution_count": 79,
   "id": "d1c08673-6d83-42e6-ada0-dfb09cfca9eb",
   "metadata": {},
   "outputs": [],
   "source": [
    "product_details = pd.DataFrame(all_products_data)"
   ]
  },
  {
   "cell_type": "code",
   "execution_count": 80,
   "id": "551be578-4fc8-4672-a631-d29dddd7d935",
   "metadata": {},
   "outputs": [
    {
     "data": {
      "text/html": [
       "<div>\n",
       "<style scoped>\n",
       "    .dataframe tbody tr th:only-of-type {\n",
       "        vertical-align: middle;\n",
       "    }\n",
       "\n",
       "    .dataframe tbody tr th {\n",
       "        vertical-align: top;\n",
       "    }\n",
       "\n",
       "    .dataframe thead th {\n",
       "        text-align: right;\n",
       "    }\n",
       "</style>\n",
       "<table border=\"1\" class=\"dataframe\">\n",
       "  <thead>\n",
       "    <tr style=\"text-align: right;\">\n",
       "      <th></th>\n",
       "      <th>Product Link</th>\n",
       "      <th>Name</th>\n",
       "      <th>Original MRP</th>\n",
       "      <th>MRP After Discount</th>\n",
       "      <th>Ratings</th>\n",
       "      <th>Number of Ratings</th>\n",
       "      <th>Ratings Link</th>\n",
       "      <th>Sold By</th>\n",
       "    </tr>\n",
       "  </thead>\n",
       "  <tbody>\n",
       "    <tr>\n",
       "      <th>0</th>\n",
       "      <td>https://www.amazon.in//b?node=20930687031&amp;pd_r...</td>\n",
       "      <td>NaN</td>\n",
       "      <td>NaN</td>\n",
       "      <td>NaN</td>\n",
       "      <td>NaN</td>\n",
       "      <td>NaN</td>\n",
       "      <td>NaN</td>\n",
       "      <td>NaN</td>\n",
       "    </tr>\n",
       "    <tr>\n",
       "      <th>1</th>\n",
       "      <td>https://www.amazon.in//Sony-MDR-ZX110A-Stereo-...</td>\n",
       "      <td>Sony MDR-ZX110A On-Ear Stereo Headphones (Whit...</td>\n",
       "      <td>₹1,390</td>\n",
       "      <td>750.</td>\n",
       "      <td>4.0</td>\n",
       "      <td>65,826 ratings</td>\n",
       "      <td>https://www.amazon.in#customerReviews</td>\n",
       "      <td>Clicktech Retail Private Ltd</td>\n",
       "    </tr>\n",
       "    <tr>\n",
       "      <th>2</th>\n",
       "      <td>https://www.amazon.in//Sony-Bluetooth-Headphon...</td>\n",
       "      <td>Sony WH-CH520, Wireless On-Ear Bluetooth Headp...</td>\n",
       "      <td>₹5,990</td>\n",
       "      <td>4,488.</td>\n",
       "      <td>4.2</td>\n",
       "      <td>15,950 ratings</td>\n",
       "      <td>https://www.amazon.in#customerReviews</td>\n",
       "      <td>Clicktech Retail Private Ltd</td>\n",
       "    </tr>\n",
       "    <tr>\n",
       "      <th>3</th>\n",
       "      <td>https://www.amazon.in//Sony-Mdr-Zx310Ap-Wired-...</td>\n",
       "      <td>Sony Mdr-Zx310Ap Wired On Ear Headphones with ...</td>\n",
       "      <td>₹2,190</td>\n",
       "      <td>1,161.</td>\n",
       "      <td>4.0</td>\n",
       "      <td>333 ratings</td>\n",
       "      <td>https://www.amazon.in#customerReviews</td>\n",
       "      <td>Clicktech Retail Private Ltd</td>\n",
       "    </tr>\n",
       "    <tr>\n",
       "      <th>4</th>\n",
       "      <td>https://www.amazon.in//Sony-Bluetooth-Headphon...</td>\n",
       "      <td>Sony WH-CH520, Wireless On-Ear Bluetooth Headp...</td>\n",
       "      <td>₹5,990</td>\n",
       "      <td>4,269.</td>\n",
       "      <td>4.2</td>\n",
       "      <td>15,950 ratings</td>\n",
       "      <td>https://www.amazon.in#customerReviews</td>\n",
       "      <td>Clicktech Retail Private Ltd</td>\n",
       "    </tr>\n",
       "  </tbody>\n",
       "</table>\n",
       "</div>"
      ],
      "text/plain": [
       "                                        Product Link  \\\n",
       "0  https://www.amazon.in//b?node=20930687031&pd_r...   \n",
       "1  https://www.amazon.in//Sony-MDR-ZX110A-Stereo-...   \n",
       "2  https://www.amazon.in//Sony-Bluetooth-Headphon...   \n",
       "3  https://www.amazon.in//Sony-Mdr-Zx310Ap-Wired-...   \n",
       "4  https://www.amazon.in//Sony-Bluetooth-Headphon...   \n",
       "\n",
       "                                                Name Original MRP  \\\n",
       "0                                                NaN          NaN   \n",
       "1  Sony MDR-ZX110A On-Ear Stereo Headphones (Whit...       ₹1,390   \n",
       "2  Sony WH-CH520, Wireless On-Ear Bluetooth Headp...       ₹5,990   \n",
       "3  Sony Mdr-Zx310Ap Wired On Ear Headphones with ...       ₹2,190   \n",
       "4  Sony WH-CH520, Wireless On-Ear Bluetooth Headp...       ₹5,990   \n",
       "\n",
       "  MRP After Discount Ratings Number of Ratings  \\\n",
       "0                NaN     NaN               NaN   \n",
       "1               750.     4.0    65,826 ratings   \n",
       "2             4,488.     4.2    15,950 ratings   \n",
       "3             1,161.     4.0       333 ratings   \n",
       "4             4,269.     4.2    15,950 ratings   \n",
       "\n",
       "                            Ratings Link                       Sold By  \n",
       "0                                    NaN                           NaN  \n",
       "1  https://www.amazon.in#customerReviews  Clicktech Retail Private Ltd  \n",
       "2  https://www.amazon.in#customerReviews  Clicktech Retail Private Ltd  \n",
       "3  https://www.amazon.in#customerReviews  Clicktech Retail Private Ltd  \n",
       "4  https://www.amazon.in#customerReviews  Clicktech Retail Private Ltd  "
      ]
     },
     "execution_count": 80,
     "metadata": {},
     "output_type": "execute_result"
    }
   ],
   "source": [
    "product_details.head()"
   ]
  }
 ],
 "metadata": {
  "kernelspec": {
   "display_name": "Python 3 (ipykernel)",
   "language": "python",
   "name": "python3"
  },
  "language_info": {
   "codemirror_mode": {
    "name": "ipython",
    "version": 3
   },
   "file_extension": ".py",
   "mimetype": "text/x-python",
   "name": "python",
   "nbconvert_exporter": "python",
   "pygments_lexer": "ipython3",
   "version": "3.12.7"
  }
 },
 "nbformat": 4,
 "nbformat_minor": 5
}
